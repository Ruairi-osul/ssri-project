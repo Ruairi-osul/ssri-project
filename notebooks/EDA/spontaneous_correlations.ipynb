{
 "cells": [
  {
   "cell_type": "code",
   "execution_count": 4,
   "metadata": {},
   "outputs": [],
   "source": [
    "from ephys_queries import db_setup_core\n",
    "from dotenv import load_dotenv\n",
    "import pandas as pd\n",
    "import numpy as np\n",
    "from pathlib import Path\n",
    "from onep.distance import pairwise_correlation\n",
    "from spiketimes.df.surrogates import shuffled_isi_spiketrains_by\n",
    "from spiketimes.df.statistics import ifr_by\n",
    "from onep.stats import p_adjust\n",
    "from onep.utils import create_combined_col\n",
    "from scipy import stats\n",
    "from citalopram_project.load import load_spikes, load_neurons"
   ]
  },
  {
   "cell_type": "code",
   "execution_count": 5,
   "metadata": {},
   "outputs": [],
   "source": [
    "neurons = load_neurons()\n",
    "spikes = load_spikes(block_name=\"pre\").merge(neurons[[\"neuron_id\", \"session_name\", \"cluster\"]])"
   ]
  },
  {
   "cell_type": "code",
   "execution_count": 7,
   "metadata": {},
   "outputs": [],
   "source": [
    "from tqdm.notebook import tqdm\n",
    "\n",
    "def shuffled_isi_correlation_test(\n",
    "    df_spikes, \n",
    "    binwidth=1, \n",
    "    n_reps=1000, \n",
    "    cell_col=\"neuron_id\", \n",
    "    spiketimes_col=\"spiketimes\", \n",
    "    t_start=0,\n",
    "    sigma=0,\n",
    "    limit=None\n",
    "):\n",
    "    fs = 1/binwidth\n",
    "    df_binned = ifr_by(\n",
    "        df_spikes,\n",
    "        spiketimes_col=spiketimes_col,\n",
    "        spiketrain_col=cell_col,\n",
    "        sigma=sigma,\n",
    "        t_start=t_start,\n",
    "        fs=fs\n",
    "    )\n",
    "    df_tidy = pairwise_correlation(\n",
    "        df_binned,\n",
    "        cell_col=cell_col,\n",
    "        value_col=\"ifr\", \n",
    "        return_tidy=True,\n",
    "        fillna=0\n",
    "    )\n",
    "    real = df_tidy[\"value\"].values\n",
    "    n_obs = len(real)\n",
    "    reps = np.empty((n_obs, n_reps))\n",
    "    p = np.empty(n_obs)\n",
    "    for i in tqdm(range(n_reps)):\n",
    "        df2 = shuffled_isi_spiketrains_by(df_spikes, by_col=\"neuron_id\")\n",
    "        df_binned = ifr_by(\n",
    "            df2,\n",
    "            spiketimes_col=spiketimes_col,\n",
    "            spiketrain_col=cell_col,\n",
    "            sigma=sigma,\n",
    "            t_start=t_start\n",
    "        )\n",
    "        if limit is not None:\n",
    "            bins = np.sort(df_binned[\"time\"].unique())\n",
    "            max_bin = bins[:limit].max()\n",
    "            df_binned = df_binned.loc[lambda x: x[\"time\"] < max_bin]\n",
    "        df_tidy_s = pairwise_correlation(\n",
    "            df_binned,\n",
    "            cell_col=cell_col,\n",
    "            value_col=\"ifr\", \n",
    "            return_tidy=True,\n",
    "            fillna=0\n",
    "        )\n",
    "        df_tidy_s = df_tidy_s.rename(columns={\"value\": \"bs_rep\"})\n",
    "        df_tidy_s = pd.merge(df_tidy[[\"cell_combination\", \"neuron_1\", \"neuron_2\"]], df_tidy_s, how=\"left\")\n",
    "        reps[:, i] = df_tidy_s[\"bs_rep\"].values\n",
    "    for i in range(n_obs):\n",
    "        p[i] = np.nanmean(np.abs(reps[i]) > np.abs(real[i])) * 2\n",
    "    p = p_adjust(p)\n",
    "    return df_tidy.assign(p = p)"
   ]
  },
  {
   "cell_type": "code",
   "execution_count": 11,
   "metadata": {},
   "outputs": [
    {
     "data": {
      "application/vnd.jupyter.widget-view+json": {
       "model_id": "214b0b8c58a443fb84238e9d81791c3d",
       "version_major": 2,
       "version_minor": 0
      },
      "text/plain": [
       "  0%|          | 0/21 [00:00<?, ?it/s]"
      ]
     },
     "metadata": {},
     "output_type": "display_data"
    },
    {
     "data": {
      "application/vnd.jupyter.widget-view+json": {
       "model_id": "aece718c70cf4616ab37ac5cd1ee526a",
       "version_major": 2,
       "version_minor": 0
      },
      "text/plain": [
       "  0%|          | 0/1000 [00:00<?, ?it/s]"
      ]
     },
     "metadata": {},
     "output_type": "display_data"
    },
    {
     "data": {
      "application/vnd.jupyter.widget-view+json": {
       "model_id": "14b9949c8c7547ed82099e81019471df",
       "version_major": 2,
       "version_minor": 0
      },
      "text/plain": [
       "  0%|          | 0/1000 [00:00<?, ?it/s]"
      ]
     },
     "metadata": {},
     "output_type": "display_data"
    },
    {
     "data": {
      "application/vnd.jupyter.widget-view+json": {
       "model_id": "8b7b3c78ef0c479386164ea41c47e335",
       "version_major": 2,
       "version_minor": 0
      },
      "text/plain": [
       "  0%|          | 0/1000 [00:00<?, ?it/s]"
      ]
     },
     "metadata": {},
     "output_type": "display_data"
    },
    {
     "data": {
      "application/vnd.jupyter.widget-view+json": {
       "model_id": "f0953e60a2334ba9b900ed29704d97e9",
       "version_major": 2,
       "version_minor": 0
      },
      "text/plain": [
       "  0%|          | 0/1000 [00:00<?, ?it/s]"
      ]
     },
     "metadata": {},
     "output_type": "display_data"
    },
    {
     "data": {
      "application/vnd.jupyter.widget-view+json": {
       "model_id": "6a73e2a5e871464a8570aa4cc9fbeb99",
       "version_major": 2,
       "version_minor": 0
      },
      "text/plain": [
       "  0%|          | 0/1000 [00:00<?, ?it/s]"
      ]
     },
     "metadata": {},
     "output_type": "display_data"
    },
    {
     "data": {
      "application/vnd.jupyter.widget-view+json": {
       "model_id": "497c46afee4a4b55b2e99e6bf15e2544",
       "version_major": 2,
       "version_minor": 0
      },
      "text/plain": [
       "  0%|          | 0/1000 [00:00<?, ?it/s]"
      ]
     },
     "metadata": {},
     "output_type": "display_data"
    },
    {
     "data": {
      "application/vnd.jupyter.widget-view+json": {
       "model_id": "bee563c21eff4438b1a212855c42fffe",
       "version_major": 2,
       "version_minor": 0
      },
      "text/plain": [
       "  0%|          | 0/1000 [00:00<?, ?it/s]"
      ]
     },
     "metadata": {},
     "output_type": "display_data"
    },
    {
     "data": {
      "application/vnd.jupyter.widget-view+json": {
       "model_id": "fc3e3bdb23f7407bb2a92f00bb0b54fc",
       "version_major": 2,
       "version_minor": 0
      },
      "text/plain": [
       "  0%|          | 0/1000 [00:00<?, ?it/s]"
      ]
     },
     "metadata": {},
     "output_type": "display_data"
    },
    {
     "data": {
      "application/vnd.jupyter.widget-view+json": {
       "model_id": "1cbe31bd3c8d4be18eb58d2b9871ac38",
       "version_major": 2,
       "version_minor": 0
      },
      "text/plain": [
       "  0%|          | 0/1000 [00:00<?, ?it/s]"
      ]
     },
     "metadata": {},
     "output_type": "display_data"
    },
    {
     "data": {
      "application/vnd.jupyter.widget-view+json": {
       "model_id": "39b98892684a41b59f6a767f834b1361",
       "version_major": 2,
       "version_minor": 0
      },
      "text/plain": [
       "  0%|          | 0/1000 [00:00<?, ?it/s]"
      ]
     },
     "metadata": {},
     "output_type": "display_data"
    },
    {
     "data": {
      "application/vnd.jupyter.widget-view+json": {
       "model_id": "97d58d274b3c43da89e381af7a0bbe2c",
       "version_major": 2,
       "version_minor": 0
      },
      "text/plain": [
       "  0%|          | 0/1000 [00:00<?, ?it/s]"
      ]
     },
     "metadata": {},
     "output_type": "display_data"
    },
    {
     "data": {
      "application/vnd.jupyter.widget-view+json": {
       "model_id": "03d02546b8564cb5ac3d9a9d0f8e67b1",
       "version_major": 2,
       "version_minor": 0
      },
      "text/plain": [
       "  0%|          | 0/1000 [00:00<?, ?it/s]"
      ]
     },
     "metadata": {},
     "output_type": "display_data"
    },
    {
     "data": {
      "application/vnd.jupyter.widget-view+json": {
       "model_id": "aad7388971e4495eadaf782b72e35c20",
       "version_major": 2,
       "version_minor": 0
      },
      "text/plain": [
       "  0%|          | 0/1000 [00:00<?, ?it/s]"
      ]
     },
     "metadata": {},
     "output_type": "display_data"
    },
    {
     "data": {
      "application/vnd.jupyter.widget-view+json": {
       "model_id": "c0b3ff0914c34df593bb8a9e5a07f3b0",
       "version_major": 2,
       "version_minor": 0
      },
      "text/plain": [
       "  0%|          | 0/1000 [00:00<?, ?it/s]"
      ]
     },
     "metadata": {},
     "output_type": "display_data"
    },
    {
     "data": {
      "application/vnd.jupyter.widget-view+json": {
       "model_id": "c509c822261f43d69472ef433d5e0f48",
       "version_major": 2,
       "version_minor": 0
      },
      "text/plain": [
       "  0%|          | 0/1000 [00:00<?, ?it/s]"
      ]
     },
     "metadata": {},
     "output_type": "display_data"
    },
    {
     "data": {
      "application/vnd.jupyter.widget-view+json": {
       "model_id": "ffc9f27a85eb483eaca8419e5c4d5535",
       "version_major": 2,
       "version_minor": 0
      },
      "text/plain": [
       "  0%|          | 0/1000 [00:00<?, ?it/s]"
      ]
     },
     "metadata": {},
     "output_type": "display_data"
    },
    {
     "data": {
      "application/vnd.jupyter.widget-view+json": {
       "model_id": "798b0a1c60dc47149e3d04cf957e1b4b",
       "version_major": 2,
       "version_minor": 0
      },
      "text/plain": [
       "  0%|          | 0/1000 [00:00<?, ?it/s]"
      ]
     },
     "metadata": {},
     "output_type": "display_data"
    },
    {
     "data": {
      "application/vnd.jupyter.widget-view+json": {
       "model_id": "f948794260ab4532a8b0479ef29222cf",
       "version_major": 2,
       "version_minor": 0
      },
      "text/plain": [
       "  0%|          | 0/1000 [00:00<?, ?it/s]"
      ]
     },
     "metadata": {},
     "output_type": "display_data"
    },
    {
     "data": {
      "application/vnd.jupyter.widget-view+json": {
       "model_id": "b8f36cb195cc48b29bcf1ba8cea63be1",
       "version_major": 2,
       "version_minor": 0
      },
      "text/plain": [
       "  0%|          | 0/1000 [00:00<?, ?it/s]"
      ]
     },
     "metadata": {},
     "output_type": "display_data"
    },
    {
     "data": {
      "application/vnd.jupyter.widget-view+json": {
       "model_id": "253eebd4469d4b628b5f433f6fc14526",
       "version_major": 2,
       "version_minor": 0
      },
      "text/plain": [
       "  0%|          | 0/1000 [00:00<?, ?it/s]"
      ]
     },
     "metadata": {},
     "output_type": "display_data"
    },
    {
     "data": {
      "application/vnd.jupyter.widget-view+json": {
       "model_id": "55593229f837429ba742429a276a6740",
       "version_major": 2,
       "version_minor": 0
      },
      "text/plain": [
       "  0%|          | 0/1000 [00:00<?, ?it/s]"
      ]
     },
     "metadata": {},
     "output_type": "display_data"
    }
   ],
   "source": [
    "session_names = neurons.session_name.unique()\n",
    "frames = []\n",
    "for session in tqdm(session_names):\n",
    "    df1 = spikes.loc[lambda x: x.session_name == session]\n",
    "    res = shuffled_isi_correlation_test(df1, binwidth=1, n_reps=1000)\n",
    "    frames.append(res.assign(session_name=session))"
   ]
  },
  {
   "cell_type": "code",
   "execution_count": 13,
   "metadata": {},
   "outputs": [],
   "source": [
    "correlation_test_results = pd.concat(frames)"
   ]
  },
  {
   "cell_type": "code",
   "execution_count": 22,
   "metadata": {},
   "outputs": [],
   "source": [
    "from citalopram_project.load import get_data_dir\n",
    "derived_data_dir = get_data_dir() / \"derived\"\n",
    "derived_data_dir.mkdir(exist_ok=True)\n",
    "\n",
    "# correlation_test_results.to_parquet(derived_data_dir / \"pre_1s_spont_correlation_test.parquet.gzip\", compression=\"gzip\")\n",
    "\n",
    "# pd.read_parquet(derived_data_dir / \"pre_1s_spont_correlation_test.parquet.gzip\")\n",
    "\n",
    "# correlation_test_results.p < 0.05)"
   ]
  },
  {
   "cell_type": "code",
   "execution_count": 12,
   "metadata": {},
   "outputs": [],
   "source": [
    "def bin_and_correlate(\n",
    "    df_spikes,\n",
    "    binwidth=1,\n",
    "    spiketimes_col=\"spiketimes\", \n",
    "    cell_col=\"neuron_id\",\n",
    "    t_start=0,\n",
    "    sigma=0,\n",
    "    ):\n",
    "    ...\n",
    "    df_binned = ifr_by(\n",
    "        df_spikes,\n",
    "        spiketimes_col=spiketimes_col,\n",
    "        spiketrain_col=cell_col,\n",
    "        sigma=sigma,\n",
    "        t_start=t_start,\n",
    "        fs=1/binwidth,\n",
    "    )\n",
    "    df_tidy = pairwise_correlation(\n",
    "        df_binned,\n",
    "        cell_col=cell_col,\n",
    "        value_col=\"ifr\", \n",
    "        return_tidy=True,\n",
    "        fillna=0\n",
    "    )\n",
    "    return df_tidy"
   ]
  },
  {
   "cell_type": "code",
   "execution_count": 15,
   "metadata": {},
   "outputs": [
    {
     "data": {
      "application/vnd.jupyter.widget-view+json": {
       "model_id": "92243cacafec400ea18a59be8e1530e3",
       "version_major": 2,
       "version_minor": 0
      },
      "text/plain": [
       "  0%|          | 0/21 [00:00<?, ?it/s]"
      ]
     },
     "metadata": {},
     "output_type": "display_data"
    },
    {
     "data": {
      "application/vnd.jupyter.widget-view+json": {
       "model_id": "83953cb4d06b4a4bb4cd3d9406739f3c",
       "version_major": 2,
       "version_minor": 0
      },
      "text/plain": [
       "  0%|          | 0/21 [00:00<?, ?it/s]"
      ]
     },
     "metadata": {},
     "output_type": "display_data"
    },
    {
     "data": {
      "application/vnd.jupyter.widget-view+json": {
       "model_id": "60663263a6ad452b83cf3b03b714cf73",
       "version_major": 2,
       "version_minor": 0
      },
      "text/plain": [
       "  0%|          | 0/21 [00:00<?, ?it/s]"
      ]
     },
     "metadata": {},
     "output_type": "display_data"
    },
    {
     "data": {
      "application/vnd.jupyter.widget-view+json": {
       "model_id": "c45dbd5d969f4a84b78691e5172a2ae3",
       "version_major": 2,
       "version_minor": 0
      },
      "text/plain": [
       "  0%|          | 0/21 [00:00<?, ?it/s]"
      ]
     },
     "metadata": {},
     "output_type": "display_data"
    },
    {
     "data": {
      "application/vnd.jupyter.widget-view+json": {
       "model_id": "3bd088ae5fbf4f9298bc6fb5028f9ab6",
       "version_major": 2,
       "version_minor": 0
      },
      "text/plain": [
       "  0%|          | 0/21 [00:00<?, ?it/s]"
      ]
     },
     "metadata": {},
     "output_type": "display_data"
    },
    {
     "data": {
      "application/vnd.jupyter.widget-view+json": {
       "model_id": "c134c105a785483e923236cd7e952beb",
       "version_major": 2,
       "version_minor": 0
      },
      "text/plain": [
       "  0%|          | 0/21 [00:00<?, ?it/s]"
      ]
     },
     "metadata": {},
     "output_type": "display_data"
    },
    {
     "data": {
      "application/vnd.jupyter.widget-view+json": {
       "model_id": "9bbe3c3bfbc940068bbf9f50e92f44b0",
       "version_major": 2,
       "version_minor": 0
      },
      "text/plain": [
       "  0%|          | 0/21 [00:00<?, ?it/s]"
      ]
     },
     "metadata": {},
     "output_type": "display_data"
    },
    {
     "data": {
      "application/vnd.jupyter.widget-view+json": {
       "model_id": "9fe08aacd5a44dc1a4c77a222125d194",
       "version_major": 2,
       "version_minor": 0
      },
      "text/plain": [
       "  0%|          | 0/21 [00:00<?, ?it/s]"
      ]
     },
     "metadata": {},
     "output_type": "display_data"
    },
    {
     "data": {
      "application/vnd.jupyter.widget-view+json": {
       "model_id": "3536ea7d1d23435e88540e128f4d7755",
       "version_major": 2,
       "version_minor": 0
      },
      "text/plain": [
       "  0%|          | 0/21 [00:00<?, ?it/s]"
      ]
     },
     "metadata": {},
     "output_type": "display_data"
    },
    {
     "data": {
      "application/vnd.jupyter.widget-view+json": {
       "model_id": "d4016603ad324485a840dc665a96806a",
       "version_major": 2,
       "version_minor": 0
      },
      "text/plain": [
       "  0%|          | 0/21 [00:00<?, ?it/s]"
      ]
     },
     "metadata": {},
     "output_type": "display_data"
    },
    {
     "data": {
      "application/vnd.jupyter.widget-view+json": {
       "model_id": "81c389675f0d42869a2fe016572475ee",
       "version_major": 2,
       "version_minor": 0
      },
      "text/plain": [
       "  0%|          | 0/21 [00:00<?, ?it/s]"
      ]
     },
     "metadata": {},
     "output_type": "display_data"
    }
   ],
   "source": [
    "df_list = []\n",
    "bins = [0.01, 0.1, 0.2, 0.5, 1, 2, 5, 10, 30, 60, 120]\n",
    "for binwidth in bins:\n",
    "    for session in tqdm(session_names):\n",
    "        df1 = spikes.loc[lambda x: x.session_name == session]\n",
    "        res = bin_and_correlate(df1, binwidth=1)\n",
    "        df_list.append(res.assign(session_name=session, binwidth=binwidth))\n",
    "\n",
    "binwidth_res = pd.concat(df_list)\n"
   ]
  },
  {
   "cell_type": "code",
   "execution_count": 25,
   "metadata": {},
   "outputs": [],
   "source": [
    "# binwidth_res.to_parquet(derived_data_dir / \"binwidth_spont_correlations.parquet.gzip\", compression=\"gzip\")"
   ]
  },
  {
   "cell_type": "code",
   "execution_count": null,
   "metadata": {},
   "outputs": [],
   "source": []
  }
 ],
 "metadata": {
  "interpreter": {
   "hash": "73685636566b8919c428e735b797227efc2f974de6522383d0c6b4a35049aff0"
  },
  "kernelspec": {
   "display_name": "Python 3.6.13 64-bit ('citalopram': conda)",
   "name": "python3"
  },
  "language_info": {
   "codemirror_mode": {
    "name": "ipython",
    "version": 3
   },
   "file_extension": ".py",
   "mimetype": "text/x-python",
   "name": "python",
   "nbconvert_exporter": "python",
   "pygments_lexer": "ipython3",
   "version": "3.6.13"
  },
  "orig_nbformat": 4
 },
 "nbformat": 4,
 "nbformat_minor": 2
}
