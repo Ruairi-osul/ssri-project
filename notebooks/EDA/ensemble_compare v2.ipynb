{
 "cells": [
  {
   "cell_type": "code",
   "execution_count": 6,
   "metadata": {},
   "outputs": [
    {
     "data": {
      "text/plain": [
       "array(['hamilton_01', 'hamilton_02', 'hamilton_13', 'hamilton_14',\n",
       "       'hamilton_23', 'hamilton_07', 'hamilton_08', 'hamilton_19',\n",
       "       'hamilton_20'], dtype=object)"
      ]
     },
     "execution_count": 6,
     "metadata": {},
     "output_type": "execute_result"
    }
   ],
   "source": [
    "from spiketimes.utils import p_adjust\n",
    "from citalopram_project.load import get_data_dir, load_neurons, load_spikes\n",
    "import pandas as pd\n",
    "import seaborn as sns\n",
    "from scipy.stats import mannwhitneyu\n",
    "from statsmodels.stats.proportion import proportions_ztest\n",
    "sns.set_style(\"whitegrid\")\n",
    "\n",
    "\n",
    "sns.set()\n",
    "sns.set_style(\"ticks\")\n",
    "\n",
    "neurons = (\n",
    "    load_neurons()\n",
    "    .loc[lambda x: x.group.isin([\"sal\", \"continuation\"])]\n",
    "    [[\"session_name\", \"group\"]]\n",
    "    .drop_duplicates()\n",
    ")\n",
    "df_stats = (\n",
    "    pd.read_parquet(get_data_dir() / \"derived\" / \"spont_ensemble_stats.parquet.gzip\")\n",
    "    .assign(pval_sig=lambda x: p_adjust(x.score_pval) < 0.05)\n",
    ")\n",
    "\n",
    "df = (\n",
    "    df_stats.merge(neurons, how=\"right\")\n",
    "    .assign(sig = lambda x: (x.pval_sig.fillna(False)) & (x[\"simmilarity\"].fillna(False) > 0.1))\n",
    ")\n",
    "\n",
    "shock_sessions = load_spikes(\"base_shock\").merge(load_neurons()[[\"neuron_id\", \"session_name\"]])[\"session_name\"].unique()\n",
    "shock_sessions"
   ]
  },
  {
   "cell_type": "code",
   "execution_count": 7,
   "metadata": {},
   "outputs": [
    {
     "data": {
      "text/plain": [
       "group\n",
       "sal             12\n",
       "continuation    19\n",
       "dtype: int64"
      ]
     },
     "execution_count": 7,
     "metadata": {},
     "output_type": "execute_result"
    }
   ],
   "source": [
    "# num mice, by group\n",
    "\n",
    "df[[\"group\", \"session_name\"]].groupby(\"group\").size()"
   ]
  },
  {
   "cell_type": "code",
   "execution_count": 8,
   "metadata": {},
   "outputs": [
    {
     "data": {
      "text/plain": [
       "group\n",
       "sal              7\n",
       "continuation    11\n",
       "dtype: int64"
      ]
     },
     "execution_count": 8,
     "metadata": {},
     "output_type": "execute_result"
    }
   ],
   "source": [
    "# num ensembles per group\n",
    "\n",
    "df.loc[lambda x: x.sig][[\"group\", \"ensemble_id\"]].groupby(\"group\").size()"
   ]
  },
  {
   "cell_type": "code",
   "execution_count": 86,
   "metadata": {},
   "outputs": [
    {
     "name": "stdout",
     "output_type": "stream",
     "text": [
      "group\n",
      "sal             0.8\n",
      "continuation    1.0\n",
      "Name: 0, dtype: float64\n",
      "(0.024104908912464623, 0.9807689277155198)\n"
     ]
    }
   ],
   "source": [
    "# num ensembles per mouse\n",
    "\n",
    "\n",
    "props = df.groupby([\"group\", \"session_name\"]).apply(lambda x: x.sig.sum() >= 1).reset_index().groupby(\"group\")[0].mean()\n",
    "\n",
    "nobs = [12, 19]\n",
    "count = [7, 11]\n",
    "res = proportions_ztest(count, nobs)\n",
    "\n",
    "print(props)\n",
    "print(res)"
   ]
  },
  {
   "cell_type": "code",
   "execution_count": 10,
   "metadata": {},
   "outputs": [
    {
     "name": "stdout",
     "output_type": "stream",
     "text": [
      "group\n",
      "sal             0.896552\n",
      "continuation    0.490446\n",
      "Name: in_ensemble, dtype: float64\n",
      "(7.01723796064135, 2.262970210671453e-12)\n"
     ]
    }
   ],
   "source": [
    "# prop neurons in ensembles\n",
    "\n",
    "df_ensembles = pd.read_parquet(get_data_dir() / \"derived\" / \"spont_ensembles.parquet.gzip\")\n",
    "\n",
    "all_neurons = (\n",
    "    load_neurons()[[\"neuron_id\", \"session_name\", \"group\"]]\n",
    "    .loc[lambda x: x.session_name.isin(shock_sessions)]\n",
    "    .merge(df_ensembles, how=\"left\")\n",
    "    .assign(in_ensemble=lambda x: ~x.ensemble_id.isnull())\n",
    ")\n",
    "\n",
    "props = all_neurons.groupby(\"group\")[\"in_ensemble\"].mean()\n",
    "\n",
    "sal = all_neurons.loc[lambda x: x.group == \"sal\"]\n",
    "cit = all_neurons.loc[lambda x: x.group == \"continuation\"]\n",
    "n_obs = [len(sal), len(cit)]\n",
    "counts = [sal[\"in_ensemble\"].sum(), cit[\"in_ensemble\"].sum()]\n",
    "res = proportions_ztest(counts, n_obs)\n",
    "\n",
    "print(props)\n",
    "print(res)"
   ]
  },
  {
   "cell_type": "code",
   "execution_count": 88,
   "metadata": {},
   "outputs": [
    {
     "name": "stdout",
     "output_type": "stream",
     "text": [
      "group\n",
      "sal             0.838710\n",
      "continuation    0.480198\n",
      "Name: in_ensemble, dtype: float64\n",
      "MannwhitneyuResult(statistic=8034.0, pvalue=5.4998741291702556e-11)\n"
     ]
    }
   ],
   "source": [
    "# proportion in ensembles by group\n",
    "\n",
    "by_mouse = (\n",
    "    all_neurons\n",
    "    .groupby([\"session_name\"], as_index=False)[\"in_ensemble\"].mean()\n",
    "    .merge(all_neurons[[\"session_name\", \"group\"]].drop_duplicates())\n",
    ")\n",
    "\n",
    "props = all_neurons.groupby(\"group\")[\"in_ensemble\"].mean()\n",
    "\n",
    "sal = all_neurons.loc[lambda x: x.group == \"sal\"][\"in_ensemble\"]\n",
    "cit = all_neurons.loc[lambda x: x.group == \"continuation\"][\"in_ensemble\"]\n",
    "\n",
    "res = mannwhitneyu(sal, cit)\n",
    "\n",
    "print(props)\n",
    "print(res)"
   ]
  },
  {
   "cell_type": "code",
   "execution_count": 89,
   "metadata": {},
   "outputs": [
    {
     "name": "stdout",
     "output_type": "stream",
     "text": [
      "group\n",
      "sal             17.0\n",
      "continuation    11.0\n",
      "Name: size, dtype: float64\n",
      "MannwhitneyuResult(statistic=24.5, pvalue=0.10929391702718033)\n"
     ]
    }
   ],
   "source": [
    "# ensemble size by group\n",
    "\n",
    "sizes = df.loc[lambda x: x.sig == True].groupby(\"group\")[\"size\"].mean()\n",
    "\n",
    "\n",
    "sal = df.loc[lambda x: x.sig == True].loc[lambda x: x.group == \"sal\"][\"size\"]\n",
    "cit = df.loc[lambda x: x.sig == True].loc[lambda x: x.group == \"continuation\"][\"size\"]\n",
    "\n",
    "res = mannwhitneyu(sal, cit)\n",
    "\n",
    "print(sizes)\n",
    "print(res)"
   ]
  },
  {
   "cell_type": "code",
   "execution_count": 90,
   "metadata": {},
   "outputs": [
    {
     "name": "stdout",
     "output_type": "stream",
     "text": [
      "group\n",
      "sal             0.176291\n",
      "continuation    0.295806\n",
      "Name: simmilarity, dtype: float64\n",
      "MannwhitneyuResult(statistic=9.0, pvalue=0.004314238796423539)\n"
     ]
    }
   ],
   "source": [
    "# ensemble similarity\n",
    "\n",
    "sizes = df.loc[lambda x: x.sig == True].groupby(\"group\")[\"simmilarity\"].mean()\n",
    "\n",
    "\n",
    "sal = df.loc[lambda x: x.sig == True].loc[lambda x: x.group == \"sal\"][\"simmilarity\"]\n",
    "cit = df.loc[lambda x: x.sig == True].loc[lambda x: x.group == \"continuation\"][\"simmilarity\"]\n",
    "\n",
    "res = mannwhitneyu(sal, cit)\n",
    "\n",
    "print(sizes)\n",
    "print(res)"
   ]
  },
  {
   "cell_type": "code",
   "execution_count": 91,
   "metadata": {},
   "outputs": [
    {
     "name": "stdout",
     "output_type": "stream",
     "text": [
      "group\n",
      "sal             0.229194\n",
      "continuation    0.304977\n",
      "Name: score, dtype: float64\n",
      "MannwhitneyuResult(statistic=20.0, pvalue=0.051529586727419786)\n"
     ]
    }
   ],
   "source": [
    "# ensemble score\n",
    "\n",
    "# ensemble similarity\n",
    "\n",
    "sizes = df.loc[lambda x: x.sig == True].groupby(\"group\")[\"score\"].mean()\n",
    "\n",
    "\n",
    "sal = df.loc[lambda x: x.sig == True].loc[lambda x: x.group == \"sal\"][\"score\"]\n",
    "cit = df.loc[lambda x: x.sig == True].loc[lambda x: x.group == \"continuation\"][\"score\"]\n",
    "\n",
    "res = mannwhitneyu(sal, cit)\n",
    "\n",
    "print(sizes)\n",
    "print(res)"
   ]
  },
  {
   "cell_type": "code",
   "execution_count": 11,
   "metadata": {},
   "outputs": [
    {
     "data": {
      "text/plain": [
       "<AxesSubplot:xlabel='group', ylabel='in_ensemble'>"
      ]
     },
     "execution_count": 11,
     "metadata": {},
     "output_type": "execute_result"
    },
    {
     "data": {
      "image/png": "[encoded data removed]",
      "text/plain": [
       "<Figure size 216x216 with 1 Axes>"
      ]
     },
     "metadata": {},
     "output_type": "display_data"
    }
   ],
   "source": [
    "# figs: prop in ensemble\n",
    "sns.set_style(\"whitegrid\")\n",
    "import matplotlib.pyplot as plt\n",
    "\n",
    "all_neurons = (\n",
    "    load_neurons()[[\"neuron_id\", \"session_name\", \"group\"]]\n",
    "    .loc[lambda x: x.session_name.isin(shock_sessions)]\n",
    "    .merge(df_ensembles, how=\"left\")\n",
    "    .assign(in_ensemble=lambda x: ~x.ensemble_id.isnull())\n",
    ")\n",
    "\n",
    "plt.figure(figsize=(3, 3))\n",
    "\n",
    "sns.barplot(data=all_neurons, x=\"group\", y=\"in_ensemble\", ci=None)\n",
    "# plt.savefig(\"PROP NEURONS ENSEMBLE.svg\")\n"
   ]
  },
  {
   "cell_type": "code",
   "execution_count": 103,
   "metadata": {},
   "outputs": [
    {
     "data": {
      "image/png": "[encoded data removed]",
      "text/plain": [
       "<Figure size 216x216 with 1 Axes>"
      ]
     },
     "metadata": {},
     "output_type": "display_data"
    }
   ],
   "source": [
    "# figs: simmilarity\n",
    "\n",
    "plt.figure(figsize=(3, 3))\n",
    "\n",
    "df.loc[lambda x: x.sig].pipe((sns.barplot, \"data\"), x=\"group\", y=\"simmilarity\")\n",
    "plt.savefig(\"ENSEMBLE SIMILARITY.svg\")"
   ]
  },
  {
   "cell_type": "code",
   "execution_count": 23,
   "metadata": {},
   "outputs": [
    {
     "data": {
      "text/html": [
       "<table class=\"simpletable\">\n",
       "<caption>Generalized Linear Model Regression Results</caption>\n",
       "<tr>\n",
       "  <th>Dep. Variable:</th>   <td>['in_ensemble[False]', 'in_ensemble[True]']</td> <th>  No. Observations:  </th>  <td>   326</td> \n",
       "</tr>\n",
       "<tr>\n",
       "  <th>Model:</th>                               <td>GLM</td>                     <th>  Df Residuals:      </th>  <td>   320</td> \n",
       "</tr>\n",
       "<tr>\n",
       "  <th>Model Family:</th>                     <td>Binomial</td>                   <th>  Df Model:          </th>  <td>     5</td> \n",
       "</tr>\n",
       "<tr>\n",
       "  <th>Link Function:</th>                      <td>logit</td>                    <th>  Scale:             </th> <td>  1.0000</td>\n",
       "</tr>\n",
       "<tr>\n",
       "  <th>Method:</th>                             <td>IRLS</td>                     <th>  Log-Likelihood:    </th> <td> -190.67</td>\n",
       "</tr>\n",
       "<tr>\n",
       "  <th>Date:</th>                         <td>Fri, 07 Jan 2022</td>               <th>  Deviance:          </th> <td>  381.33</td>\n",
       "</tr>\n",
       "<tr>\n",
       "  <th>Time:</th>                             <td>07:31:37</td>                   <th>  Pearson chi2:      </th>  <td>  326.</td> \n",
       "</tr>\n",
       "<tr>\n",
       "  <th>No. Iterations:</th>                       <td>5</td>                      <th>                     </th>     <td> </td>   \n",
       "</tr>\n",
       "<tr>\n",
       "  <th>Covariance Type:</th>                  <td>nonrobust</td>                  <th>                     </th>     <td> </td>   \n",
       "</tr>\n",
       "</table>\n",
       "<table class=\"simpletable\">\n",
       "<tr>\n",
       "                         <td></td>                            <th>coef</th>     <th>std err</th>      <th>z</th>      <th>P>|z|</th>  <th>[0.025</th>    <th>0.975]</th>  \n",
       "</tr>\n",
       "<tr>\n",
       "  <th>Intercept</th>                                       <td>   -0.5108</td> <td>    0.516</td> <td>   -0.989</td> <td> 0.323</td> <td>   -1.523</td> <td>    0.501</td>\n",
       "</tr>\n",
       "<tr>\n",
       "  <th>group[T.continuation]</th>                           <td>    0.2877</td> <td>    0.701</td> <td>    0.410</td> <td> 0.682</td> <td>   -1.087</td> <td>    1.662</td>\n",
       "</tr>\n",
       "<tr>\n",
       "  <th>cluster[T.slow_irregular]</th>                       <td>   -1.2599</td> <td>    0.643</td> <td>   -1.961</td> <td> 0.050</td> <td>   -2.519</td> <td>   -0.000</td>\n",
       "</tr>\n",
       "<tr>\n",
       "  <th>cluster[T.slow_regular]</th>                         <td>   -1.5476</td> <td>    0.674</td> <td>   -2.295</td> <td> 0.022</td> <td>   -2.869</td> <td>   -0.226</td>\n",
       "</tr>\n",
       "<tr>\n",
       "  <th>group[T.continuation]:cluster[T.slow_irregular]</th> <td>    1.8084</td> <td>    0.826</td> <td>    2.190</td> <td> 0.029</td> <td>    0.190</td> <td>    3.427</td>\n",
       "</tr>\n",
       "<tr>\n",
       "  <th>group[T.continuation]:cluster[T.slow_regular]</th>   <td>    1.6607</td> <td>    0.851</td> <td>    1.952</td> <td> 0.051</td> <td>   -0.007</td> <td>    3.328</td>\n",
       "</tr>\n",
       "</table>"
      ],
      "text/plain": [
       "<class 'statsmodels.iolib.summary.Summary'>\n",
       "\"\"\"\n",
       "                              Generalized Linear Model Regression Results                              \n",
       "=======================================================================================================\n",
       "Dep. Variable:     ['in_ensemble[False]', 'in_ensemble[True]']   No. Observations:                  326\n",
       "Model:                                                     GLM   Df Residuals:                      320\n",
       "Model Family:                                         Binomial   Df Model:                            5\n",
       "Link Function:                                           logit   Scale:                          1.0000\n",
       "Method:                                                   IRLS   Log-Likelihood:                -190.67\n",
       "Date:                                         Fri, 07 Jan 2022   Deviance:                       381.33\n",
       "Time:                                                 07:31:37   Pearson chi2:                     326.\n",
       "No. Iterations:                                              5                                         \n",
       "Covariance Type:                                     nonrobust                                         \n",
       "===================================================================================================================\n",
       "                                                      coef    std err          z      P>|z|      [0.025      0.975]\n",
       "-------------------------------------------------------------------------------------------------------------------\n",
       "Intercept                                          -0.5108      0.516     -0.989      0.323      -1.523       0.501\n",
       "group[T.continuation]                               0.2877      0.701      0.410      0.682      -1.087       1.662\n",
       "cluster[T.slow_irregular]                          -1.2599      0.643     -1.961      0.050      -2.519      -0.000\n",
       "cluster[T.slow_regular]                            -1.5476      0.674     -2.295      0.022      -2.869      -0.226\n",
       "group[T.continuation]:cluster[T.slow_irregular]     1.8084      0.826      2.190      0.029       0.190       3.427\n",
       "group[T.continuation]:cluster[T.slow_regular]       1.6607      0.851      1.952      0.051      -0.007       3.328\n",
       "===================================================================================================================\n",
       "\"\"\""
      ]
     },
     "execution_count": 23,
     "metadata": {},
     "output_type": "execute_result"
    }
   ],
   "source": [
    "# effect of cluster\n",
    "\n",
    "import statsmodels.api as sm\n",
    "import statsmodels.formula.api as smf\n",
    "from statsmodels.discrete.discrete_model import DiscreteResults\n",
    "\n",
    "all_neurons_clusters = all_neurons.merge(load_neurons()[[\"neuron_id\", \"cluster\"]])\n",
    "model = smf.glm(\"in_ensemble ~ group * cluster\", family=sm.families.Binomial(), data=all_neurons_clusters).fit()\n",
    "res = model.summary()\n",
    "res"
   ]
  },
  {
   "cell_type": "code",
   "execution_count": 37,
   "metadata": {},
   "outputs": [],
   "source": [
    "# example ensemble\n",
    "\n",
    "from citalopram_project.load import load_spikes\n",
    "from citalopram_project.correlations import pairwise_correlation_spikes\n",
    "import numpy as np \n",
    "\n",
    "def _reindex(df: pd.DataFrame, idx: np.ndarray) -> pd.DataFrame:\n",
    "    idx = idx[np.isin(idx, df.columns)]\n",
    "    df = df.reindex(idx)\n",
    "    df = df[idx]\n",
    "    return df\n",
    "\n",
    "def get_index(df: pd.DataFrame, all_neurons: np.ndarray):\n",
    "    ensemble_list = [\n",
    "        df[df[\"ensemble_id\"] == ensemble_name].neuron_id.unique()\n",
    "        for ensemble_name in df.ensemble_id.unique().tolist()\n",
    "    ]\n",
    "    ensemble_neurons = np.concatenate(ensemble_list)\n",
    "    non_ensemble_neurons = [n for n in all_neurons if n not in ensemble_neurons.tolist()]\n",
    "    index = np.concatenate([ensemble_neurons, non_ensemble_neurons])\n",
    "    return index\n",
    "\n",
    "def plot_heatmap(session_name, df_spikes, df_ensembles, all_neurons, bin_width=1):\n",
    "    df_corr = pairwise_correlation_spikes(df_spikes = df_spikes.loc[lambda x: x.session_name == session_name],\n",
    "        bin_width = bin_width,\n",
    "        rectify=True,\n",
    "        fillna=True)\n",
    "    idx = get_index(\n",
    "        df_ensembles.loc[lambda x: x.session_name == session_name], \n",
    "        all_neurons.loc[lambda x: x.session_name == session_name][\"neuron_id\"].unique()\n",
    "        )\n",
    "    df_corr = _reindex(df_corr, idx)\n",
    "    return sns.heatmap(df_corr, vmin=0, vmax=1, cmap=\"Greys\")\n"
   ]
  },
  {
   "cell_type": "code",
   "execution_count": 105,
   "metadata": {},
   "outputs": [
    {
     "data": {
      "image/png": "[encoded data removed]",
      "text/plain": [
       "<Figure size 360x360 with 2 Axes>"
      ]
     },
     "metadata": {},
     "output_type": "display_data"
    }
   ],
   "source": [
    "sal_sessions = load_neurons().loc[lambda x: x.group == \"sal\"][\"session_name\"].unique()\n",
    "cit_sessions = load_neurons().loc[lambda x: x.group == \"continuation\"][\"session_name\"].unique()\n",
    "\n",
    "df_spikes = (\n",
    "    load_spikes(\"pre\")\n",
    "    .merge(load_neurons()[[\"neuron_id\", \"session_name\"]])\n",
    ")\n",
    "\n",
    "session_name = sal_sessions[2]\n",
    "plt.figure(figsize=(5, 5))\n",
    "plot_heatmap(session_name, df_spikes, df_ensembles, all_neurons, bin_width=1)\n",
    "plt.savefig(\"SAL CORR MAT 1.png\")"
   ]
  },
  {
   "cell_type": "code",
   "execution_count": 106,
   "metadata": {},
   "outputs": [
    {
     "data": {
      "image/png": "[encoded data removed]",
      "text/plain": [
       "<Figure size 360x360 with 2 Axes>"
      ]
     },
     "metadata": {},
     "output_type": "display_data"
    }
   ],
   "source": [
    "session_name = sal_sessions[0]\n",
    "plt.figure(figsize=(5, 5))\n",
    "plot_heatmap(session_name, df_spikes, df_ensembles, all_neurons, bin_width=1)\n",
    "plt.savefig(\"SAL CORR MAT 2.png\")"
   ]
  },
  {
   "cell_type": "code",
   "execution_count": 107,
   "metadata": {},
   "outputs": [
    {
     "data": {
      "image/png": "[encoded data removed]",
      "text/plain": [
       "<Figure size 360x360 with 2 Axes>"
      ]
     },
     "metadata": {},
     "output_type": "display_data"
    }
   ],
   "source": [
    "session_name = cit_sessions[6]\n",
    "plt.figure(figsize=(5, 5))\n",
    "\n",
    "plot_heatmap(session_name, df_spikes, df_ensembles, all_neurons, bin_width=1)\n",
    "plt.savefig(\"CIT CORR MAT 1.png\")"
   ]
  },
  {
   "cell_type": "code",
   "execution_count": 108,
   "metadata": {},
   "outputs": [
    {
     "data": {
      "image/png": "[encoded data removed]",
      "text/plain": [
       "<Figure size 360x360 with 2 Axes>"
      ]
     },
     "metadata": {},
     "output_type": "display_data"
    }
   ],
   "source": [
    "session_name = cit_sessions[3]\n",
    "plt.figure(figsize=(5, 5))\n",
    "\n",
    "plot_heatmap(session_name, df_spikes, df_ensembles, all_neurons, bin_width=1)\n",
    "plt.savefig(\"CIT CORR MAT 2.png\")"
   ]
  },
  {
   "cell_type": "code",
   "execution_count": 12,
   "metadata": {},
   "outputs": [],
   "source": [
    "# overlap\n",
    "\n",
    "\n"
   ]
  },
  {
   "cell_type": "code",
   "execution_count": 80,
   "metadata": {},
   "outputs": [
    {
     "data": {
      "text/html": [
       "<div>\n",
       "<style scoped>\n",
       "    .dataframe tbody tr th:only-of-type {\n",
       "        vertical-align: middle;\n",
       "    }\n",
       "\n",
       "    .dataframe tbody tr th {\n",
       "        vertical-align: top;\n",
       "    }\n",
       "\n",
       "    .dataframe thead th {\n",
       "        text-align: right;\n",
       "    }\n",
       "</style>\n",
       "<table border=\"1\" class=\"dataframe\">\n",
       "  <thead>\n",
       "    <tr style=\"text-align: right;\">\n",
       "      <th></th>\n",
       "      <th>ensemble_id</th>\n",
       "      <th>modularity</th>\n",
       "      <th>size</th>\n",
       "      <th>score</th>\n",
       "      <th>score_pval</th>\n",
       "      <th>simmilarity</th>\n",
       "      <th>session_name</th>\n",
       "      <th>ensemble_sig</th>\n",
       "      <th>pval_sig</th>\n",
       "      <th>group</th>\n",
       "      <th>sig</th>\n",
       "    </tr>\n",
       "  </thead>\n",
       "  <tbody>\n",
       "    <tr>\n",
       "      <th>12</th>\n",
       "      <td>22.0</td>\n",
       "      <td>48.922865</td>\n",
       "      <td>25.0</td>\n",
       "      <td>0.158818</td>\n",
       "      <td>0.000333</td>\n",
       "      <td>0.113292</td>\n",
       "      <td>hamilton_07</td>\n",
       "      <td>True</td>\n",
       "      <td>True</td>\n",
       "      <td>sal</td>\n",
       "      <td>True</td>\n",
       "    </tr>\n",
       "    <tr>\n",
       "      <th>13</th>\n",
       "      <td>23.0</td>\n",
       "      <td>48.922865</td>\n",
       "      <td>15.0</td>\n",
       "      <td>0.345874</td>\n",
       "      <td>0.000000</td>\n",
       "      <td>0.234345</td>\n",
       "      <td>hamilton_07</td>\n",
       "      <td>True</td>\n",
       "      <td>True</td>\n",
       "      <td>sal</td>\n",
       "      <td>True</td>\n",
       "    </tr>\n",
       "    <tr>\n",
       "      <th>14</th>\n",
       "      <td>24.0</td>\n",
       "      <td>48.922865</td>\n",
       "      <td>15.0</td>\n",
       "      <td>0.170172</td>\n",
       "      <td>0.000333</td>\n",
       "      <td>0.168371</td>\n",
       "      <td>hamilton_07</td>\n",
       "      <td>True</td>\n",
       "      <td>True</td>\n",
       "      <td>sal</td>\n",
       "      <td>True</td>\n",
       "    </tr>\n",
       "  </tbody>\n",
       "</table>\n",
       "</div>"
      ],
      "text/plain": [
       "    ensemble_id  modularity  size     score  score_pval  simmilarity  \\\n",
       "12         22.0   48.922865  25.0  0.158818    0.000333     0.113292   \n",
       "13         23.0   48.922865  15.0  0.345874    0.000000     0.234345   \n",
       "14         24.0   48.922865  15.0  0.170172    0.000333     0.168371   \n",
       "\n",
       "   session_name ensemble_sig pval_sig group   sig  \n",
       "12  hamilton_07         True     True   sal  True  \n",
       "13  hamilton_07         True     True   sal  True  \n",
       "14  hamilton_07         True     True   sal  True  "
      ]
     },
     "execution_count": 80,
     "metadata": {},
     "output_type": "execute_result"
    }
   ],
   "source": [
    "df.loc[lambda x: x.session_name == sal_sessions[2]]"
   ]
  },
  {
   "cell_type": "code",
   "execution_count": 81,
   "metadata": {},
   "outputs": [
    {
     "data": {
      "text/html": [
       "<div>\n",
       "<style scoped>\n",
       "    .dataframe tbody tr th:only-of-type {\n",
       "        vertical-align: middle;\n",
       "    }\n",
       "\n",
       "    .dataframe tbody tr th {\n",
       "        vertical-align: top;\n",
       "    }\n",
       "\n",
       "    .dataframe thead th {\n",
       "        text-align: right;\n",
       "    }\n",
       "</style>\n",
       "<table border=\"1\" class=\"dataframe\">\n",
       "  <thead>\n",
       "    <tr style=\"text-align: right;\">\n",
       "      <th></th>\n",
       "      <th>ensemble_id</th>\n",
       "      <th>modularity</th>\n",
       "      <th>size</th>\n",
       "      <th>score</th>\n",
       "      <th>score_pval</th>\n",
       "      <th>simmilarity</th>\n",
       "      <th>session_name</th>\n",
       "      <th>ensemble_sig</th>\n",
       "      <th>pval_sig</th>\n",
       "      <th>group</th>\n",
       "      <th>sig</th>\n",
       "    </tr>\n",
       "  </thead>\n",
       "  <tbody>\n",
       "    <tr>\n",
       "      <th>27</th>\n",
       "      <td>50.0</td>\n",
       "      <td>25.800116</td>\n",
       "      <td>2.0</td>\n",
       "      <td>0.355674</td>\n",
       "      <td>0.00250</td>\n",
       "      <td>0.399118</td>\n",
       "      <td>chronic_01</td>\n",
       "      <td>False</td>\n",
       "      <td>True</td>\n",
       "      <td>continuation</td>\n",
       "      <td>True</td>\n",
       "    </tr>\n",
       "    <tr>\n",
       "      <th>28</th>\n",
       "      <td>51.0</td>\n",
       "      <td>25.800116</td>\n",
       "      <td>4.0</td>\n",
       "      <td>0.095061</td>\n",
       "      <td>0.11750</td>\n",
       "      <td>0.122210</td>\n",
       "      <td>chronic_01</td>\n",
       "      <td>False</td>\n",
       "      <td>False</td>\n",
       "      <td>continuation</td>\n",
       "      <td>False</td>\n",
       "    </tr>\n",
       "    <tr>\n",
       "      <th>29</th>\n",
       "      <td>52.0</td>\n",
       "      <td>25.800116</td>\n",
       "      <td>11.0</td>\n",
       "      <td>0.329014</td>\n",
       "      <td>0.00400</td>\n",
       "      <td>0.286132</td>\n",
       "      <td>chronic_01</td>\n",
       "      <td>True</td>\n",
       "      <td>True</td>\n",
       "      <td>continuation</td>\n",
       "      <td>True</td>\n",
       "    </tr>\n",
       "    <tr>\n",
       "      <th>30</th>\n",
       "      <td>53.0</td>\n",
       "      <td>25.800116</td>\n",
       "      <td>2.0</td>\n",
       "      <td>0.124340</td>\n",
       "      <td>0.07975</td>\n",
       "      <td>0.117687</td>\n",
       "      <td>chronic_01</td>\n",
       "      <td>False</td>\n",
       "      <td>False</td>\n",
       "      <td>continuation</td>\n",
       "      <td>False</td>\n",
       "    </tr>\n",
       "  </tbody>\n",
       "</table>\n",
       "</div>"
      ],
      "text/plain": [
       "    ensemble_id  modularity  size     score  score_pval  simmilarity  \\\n",
       "27         50.0   25.800116   2.0  0.355674     0.00250     0.399118   \n",
       "28         51.0   25.800116   4.0  0.095061     0.11750     0.122210   \n",
       "29         52.0   25.800116  11.0  0.329014     0.00400     0.286132   \n",
       "30         53.0   25.800116   2.0  0.124340     0.07975     0.117687   \n",
       "\n",
       "   session_name ensemble_sig pval_sig         group    sig  \n",
       "27   chronic_01        False     True  continuation   True  \n",
       "28   chronic_01        False    False  continuation  False  \n",
       "29   chronic_01         True     True  continuation   True  \n",
       "30   chronic_01        False    False  continuation  False  "
      ]
     },
     "execution_count": 81,
     "metadata": {},
     "output_type": "execute_result"
    }
   ],
   "source": [
    "df.loc[lambda x: x.session_name == cit_sessions[6]]"
   ]
  },
  {
   "cell_type": "code",
   "execution_count": 82,
   "metadata": {},
   "outputs": [
    {
     "data": {
      "text/html": [
       "<div>\n",
       "<style scoped>\n",
       "    .dataframe tbody tr th:only-of-type {\n",
       "        vertical-align: middle;\n",
       "    }\n",
       "\n",
       "    .dataframe tbody tr th {\n",
       "        vertical-align: top;\n",
       "    }\n",
       "\n",
       "    .dataframe thead th {\n",
       "        text-align: right;\n",
       "    }\n",
       "</style>\n",
       "<table border=\"1\" class=\"dataframe\">\n",
       "  <thead>\n",
       "    <tr style=\"text-align: right;\">\n",
       "      <th></th>\n",
       "      <th>ensemble_id</th>\n",
       "      <th>modularity</th>\n",
       "      <th>size</th>\n",
       "      <th>score</th>\n",
       "      <th>score_pval</th>\n",
       "      <th>simmilarity</th>\n",
       "      <th>session_name</th>\n",
       "      <th>ensemble_sig</th>\n",
       "      <th>pval_sig</th>\n",
       "      <th>group</th>\n",
       "      <th>sig</th>\n",
       "    </tr>\n",
       "  </thead>\n",
       "  <tbody>\n",
       "    <tr>\n",
       "      <th>15</th>\n",
       "      <td>25.0</td>\n",
       "      <td>152.095105</td>\n",
       "      <td>30.0</td>\n",
       "      <td>0.080100</td>\n",
       "      <td>0.013</td>\n",
       "      <td>0.097973</td>\n",
       "      <td>hamilton_08</td>\n",
       "      <td>False</td>\n",
       "      <td>True</td>\n",
       "      <td>continuation</td>\n",
       "      <td>False</td>\n",
       "    </tr>\n",
       "    <tr>\n",
       "      <th>16</th>\n",
       "      <td>26.0</td>\n",
       "      <td>152.095105</td>\n",
       "      <td>23.0</td>\n",
       "      <td>0.301876</td>\n",
       "      <td>0.000</td>\n",
       "      <td>0.311876</td>\n",
       "      <td>hamilton_08</td>\n",
       "      <td>True</td>\n",
       "      <td>True</td>\n",
       "      <td>continuation</td>\n",
       "      <td>True</td>\n",
       "    </tr>\n",
       "    <tr>\n",
       "      <th>17</th>\n",
       "      <td>27.0</td>\n",
       "      <td>152.095105</td>\n",
       "      <td>2.0</td>\n",
       "      <td>0.429917</td>\n",
       "      <td>0.000</td>\n",
       "      <td>0.439040</td>\n",
       "      <td>hamilton_08</td>\n",
       "      <td>False</td>\n",
       "      <td>True</td>\n",
       "      <td>continuation</td>\n",
       "      <td>True</td>\n",
       "    </tr>\n",
       "    <tr>\n",
       "      <th>18</th>\n",
       "      <td>28.0</td>\n",
       "      <td>152.095105</td>\n",
       "      <td>5.0</td>\n",
       "      <td>0.313216</td>\n",
       "      <td>0.000</td>\n",
       "      <td>0.252352</td>\n",
       "      <td>hamilton_08</td>\n",
       "      <td>True</td>\n",
       "      <td>True</td>\n",
       "      <td>continuation</td>\n",
       "      <td>True</td>\n",
       "    </tr>\n",
       "  </tbody>\n",
       "</table>\n",
       "</div>"
      ],
      "text/plain": [
       "    ensemble_id  modularity  size     score  score_pval  simmilarity  \\\n",
       "15         25.0  152.095105  30.0  0.080100       0.013     0.097973   \n",
       "16         26.0  152.095105  23.0  0.301876       0.000     0.311876   \n",
       "17         27.0  152.095105   2.0  0.429917       0.000     0.439040   \n",
       "18         28.0  152.095105   5.0  0.313216       0.000     0.252352   \n",
       "\n",
       "   session_name ensemble_sig pval_sig         group    sig  \n",
       "15  hamilton_08        False     True  continuation  False  \n",
       "16  hamilton_08         True     True  continuation   True  \n",
       "17  hamilton_08        False     True  continuation   True  \n",
       "18  hamilton_08         True     True  continuation   True  "
      ]
     },
     "execution_count": 82,
     "metadata": {},
     "output_type": "execute_result"
    }
   ],
   "source": [
    "df.loc[lambda x: x.session_name == cit_sessions[3]]"
   ]
  },
  {
   "cell_type": "code",
   "execution_count": null,
   "metadata": {},
   "outputs": [],
   "source": []
  }
 ],
 "metadata": {
  "interpreter": {
   "hash": "a599687f909e48fa7273069ae1b2e38668ccafbf5edc22ac15bebb93ff4076d0"
  },
  "kernelspec": {
   "display_name": "Python 3.9.6 64-bit ('ephys': conda)",
   "language": "python",
   "name": "python3"
  },
  "language_info": {
   "codemirror_mode": {
    "name": "ipython",
    "version": 3
   },
   "file_extension": ".py",
   "mimetype": "text/x-python",
   "name": "python",
   "nbconvert_exporter": "python",
   "pygments_lexer": "ipython3",
   "version": "3.9.6"
  },
  "orig_nbformat": 4
 },
 "nbformat": 4,
 "nbformat_minor": 2
}
