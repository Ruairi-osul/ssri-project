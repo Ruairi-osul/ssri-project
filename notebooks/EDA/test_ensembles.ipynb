{
 "cells": [
  {
   "cell_type": "code",
   "execution_count": 10,
   "metadata": {},
   "outputs": [],
   "source": [
    "from citalopram_project.load import load_spikes, load_neurons\n",
    "from citalopram_project.correlations import pairwise_correlation_spikes\n",
    "from citalopram_project.ensemble.humphries import humphries_ensemble, communities_test\n",
    "from tqdm.notebook import tqdm\n",
    "import pandas as pd\n",
    "import numpy as np\n",
    "\n",
    "neurons = load_neurons()\n",
    "spikes = load_spikes(block_name=\"pre\").merge(neurons[[\"neuron_id\", \"session_name\", \"cluster\"]])"
   ]
  },
  {
   "cell_type": "code",
   "execution_count": 13,
   "metadata": {},
   "outputs": [],
   "source": [
    "def _create_ensemble_stats(\n",
    "    mod,\n",
    "    communities,\n",
    "    community_scores,\n",
    "    community_pvals,\n",
    "    community_similarities,\n",
    "):\n",
    "    sers = []\n",
    "    for i, (stats) in enumerate(\n",
    "        zip(communities, community_scores, community_pvals, community_similarities)\n",
    "    ):\n",
    "        com, score, pval, sim = stats\n",
    "        ser = pd.Series(\n",
    "            {\n",
    "                \"modularity\": mod,\n",
    "                \"ensemble\": i,\n",
    "                \"size\": len(com),\n",
    "                \"score\": score,\n",
    "                \"score_pval\": pval,\n",
    "                \"simmilarity\": sim,\n",
    "            }\n",
    "        )\n",
    "        sers.append(ser)\n",
    "    return pd.DataFrame(sers)\n",
    "\n",
    "\n",
    "def _create_ensemble_df(coms):\n",
    "    frames = []\n",
    "    for i, com in enumerate(coms):\n",
    "        df = pd.DataFrame({\"ensemble\": i, \"neuron_id\": com})\n",
    "        frames.append(df)\n",
    "    return pd.concat(frames)\n",
    "\n",
    "def get_ensemble_id(ensemble_stats_df, ensemble_df):\n",
    "    ensemble_stats_df =(\n",
    "        ensemble_stats_df\n",
    "        .reset_index()\n",
    "        .drop(\"index\", axis=1)\n",
    "        .reset_index()\n",
    "        .rename(columns={\"index\": \"ensemble_id\"})\n",
    "    )\n",
    "    ensemble_df = pd.merge(ensemble_stats_df[[\"session_name\", \"ensemble\", \"ensemble_id\"]], ensemble_df)\n",
    "    ensemble_stats_df = ensemble_stats_df.drop(\"ensemble\", axis=1)\n",
    "    ensemble_df = ensemble_df.drop(\"ensemble\", axis=1)\n",
    "    return ensemble_stats_df, ensemble_df\n",
    "\n",
    "def get_ensemble_sig(ensemble_stats_df, min_similarity=0.1, min_size=3):\n",
    "    ensemble_stats_df = ensemble_stats_df.assign(\n",
    "        ensemble_sig = np.where((\n",
    "            ensemble_stats_df[\"score_pval\"] < 0.05) & \n",
    "            (ensemble_stats_df[\"simmilarity\"] > min_similarity) & \n",
    "            (~np.isnan(ensemble_stats_df[\"modularity\"])) &\n",
    "            (ensemble_stats_df[\"size\"] >= min_size),\n",
    "            True, False)   \n",
    "    )\n",
    "    return ensemble_stats_df\n",
    "\n",
    "def drop_non_sig_ensembles(ensemble_stats_df, ensemble_df):\n",
    "    sig_ensembles = ensemble_stats_df.loc[lambda x: x.ensemble_sig == True].ensemble_id.unique()\n",
    "    dropped = ensemble_df.loc[lambda x: x.ensemble_id.isin(sig_ensembles)]\n",
    "    return dropped"
   ]
  },
  {
   "cell_type": "code",
   "execution_count": 11,
   "metadata": {},
   "outputs": [
    {
     "data": {
      "application/vnd.jupyter.widget-view+json": {
       "model_id": "be9a05b84ff74cd0b6b1db3490d32ea0",
       "version_major": 2,
       "version_minor": 0
      },
      "text/plain": [
       "  0%|          | 0/21 [00:00<?, ?it/s]"
      ]
     },
     "metadata": {},
     "output_type": "display_data"
    }
   ],
   "source": [
    "session_names = neurons.session_name.unique()\n",
    "stats_dfs = []\n",
    "ensembles_dfs = []\n",
    "for session in tqdm(session_names):\n",
    "    df1 = spikes.loc[lambda x: x.session_name == session]\n",
    "    df_corr = pairwise_correlation_spikes(df1, bin_width=1, sigma=0, fillna=0)\n",
    "    mod, communities, cluster_idx = humphries_ensemble(df_corr)\n",
    "    if np.isnan(mod):\n",
    "        continue\n",
    "    com_scores, com_score_p_values, com_similarities = communities_test(df_corr, communities, n_boot=1000)\n",
    "    stats_dfs.append(_create_ensemble_stats(mod, communities, com_scores, com_score_p_values, com_similarities).assign(session_name=session))\n",
    "    ensembles_dfs.append(_create_ensemble_df(communities).assign(session_name=session))"
   ]
  },
  {
   "cell_type": "code",
   "execution_count": 14,
   "metadata": {},
   "outputs": [],
   "source": [
    "df_stats = pd.concat(stats_dfs)\n",
    "df_ensembles = pd.concat(ensembles_dfs)\n",
    "df_stats = get_ensemble_sig(df_stats)\n",
    "df_stats, df_ensembles = get_ensemble_id(df_stats, df_ensembles)\n",
    "df_ensembles = drop_non_sig_ensembles(df_stats, df_ensembles)"
   ]
  },
  {
   "cell_type": "code",
   "execution_count": 25,
   "metadata": {},
   "outputs": [
    {
     "data": {
      "text/plain": [
       "<AxesSubplot:xlabel='score', ylabel='Count'>"
      ]
     },
     "execution_count": 25,
     "metadata": {},
     "output_type": "execute_result"
    },
    {
     "data": {
      "image/png": "[encoded data removed]",
      "text/plain": [
       "<Figure size 432x288 with 1 Axes>"
      ]
     },
     "metadata": {
      "needs_background": "light"
     },
     "output_type": "display_data"
    }
   ],
   "source": [
    "import seaborn as sns\n",
    "\n",
    "(\n",
    "    df_stats.merge(neurons[[\"session_name\", \"group\"]].dropna())\n",
    "    .pipe(lambda x: sns.histplot(data=x, x=\"score\", hue=\"group\"))\n",
    ")"
   ]
  },
  {
   "cell_type": "code",
   "execution_count": 23,
   "metadata": {},
   "outputs": [],
   "source": [
    "from citalopram_project.load import get_data_dir\n",
    "\n",
    "derived_data_dir = get_data_dir() / \"derived\"\n",
    "df_stats.to_parquet(derived_data_dir / \"spont_ensemble_stats.parquet.gzip\", compression=\"gzip\")\n",
    "df_ensembles.to_parquet(derived_data_dir / \"spont_ensembles.parquet.gzip\", compression=\"gzip\")"
   ]
  },
  {
   "cell_type": "code",
   "execution_count": null,
   "metadata": {},
   "outputs": [],
   "source": []
  },
  {
   "cell_type": "code",
   "execution_count": null,
   "metadata": {},
   "outputs": [],
   "source": []
  },
  {
   "cell_type": "code",
   "execution_count": 5,
   "metadata": {},
   "outputs": [],
   "source": [
    "def _reindex(df: pd.DataFrame, idx: np.ndarray) -> pd.DataFrame:\n",
    "    df = df.reindex(idx)\n",
    "    df = df[idx]\n",
    "    return df\n",
    "\n",
    "\n",
    "idx = []\n",
    "for c in clusters:\n",
    "    idx.extend(c)\n",
    "\n",
    "df_corr2 = _reindex(df_corr, idx)"
   ]
  },
  {
   "cell_type": "code",
   "execution_count": 6,
   "metadata": {},
   "outputs": [
    {
     "data": {
      "text/plain": [
       "<AxesSubplot:>"
      ]
     },
     "execution_count": 6,
     "metadata": {},
     "output_type": "execute_result"
    },
    {
     "data": {
      "image/png": "[encoded data removed]",
      "text/plain": [
       "<Figure size 432x288 with 2 Axes>"
      ]
     },
     "metadata": {
      "needs_background": "light"
     },
     "output_type": "display_data"
    }
   ],
   "source": [
    "import seaborn as sns\n",
    "sns.heatmap(df_corr2, vmin=0, vmax=0.5, cmap=\"viridis\")"
   ]
  },
  {
   "cell_type": "code",
   "execution_count": 7,
   "metadata": {},
   "outputs": [
    {
     "data": {
      "text/plain": [
       "(array([0.09689595, 0.17564577, 0.21201444]),\n",
       " array([0.00033333, 0.        , 0.        ]),\n",
       " array([0.06215781, 0.12717908, 0.17647139]))"
      ]
     },
     "execution_count": 7,
     "metadata": {},
     "output_type": "execute_result"
    }
   ],
   "source": [
    "from citalopram_project.ensemble.humphries import communities_test\n",
    "\n",
    "\n",
    "communities_test(df_corr, clusters, n_boot=1000)"
   ]
  },
  {
   "cell_type": "code",
   "execution_count": null,
   "metadata": {},
   "outputs": [],
   "source": []
  }
 ],
 "metadata": {
  "interpreter": {
   "hash": "73685636566b8919c428e735b797227efc2f974de6522383d0c6b4a35049aff0"
  },
  "kernelspec": {
   "display_name": "Python 3.6.13 64-bit ('citalopram': conda)",
   "name": "python3"
  },
  "language_info": {
   "codemirror_mode": {
    "name": "ipython",
    "version": 3
   },
   "file_extension": ".py",
   "mimetype": "text/x-python",
   "name": "python",
   "nbconvert_exporter": "python",
   "pygments_lexer": "ipython3",
   "version": "3.6.13"
  },
  "orig_nbformat": 4
 },
 "nbformat": 4,
 "nbformat_minor": 2
}
