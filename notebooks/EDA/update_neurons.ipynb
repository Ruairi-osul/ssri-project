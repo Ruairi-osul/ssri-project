{
 "cells": [
  {
   "cell_type": "code",
   "execution_count": 39,
   "metadata": {},
   "outputs": [],
   "source": [
    "from citalopram_project.load import load_neurons\n",
    "import seaborn as sns\n",
    "import matplotlib.pyplot as plt\n",
    "import pandas as pd\n",
    "sns.set_style(\"whitegrid\")\n",
    "\n",
    "neurons = (\n",
    "    load_neurons()\n",
    "    .dropna()\n",
    "    .loc[lambda x: x.group.isin([\"sal\", \"continuation\"])]\n",
    "    .assign(group=lambda x: pd.Categorical(x.group, categories=[\"sal\", \"continuation\"], ordered=True))\n",
    ")"
   ]
  },
  {
   "cell_type": "code",
   "execution_count": 33,
   "metadata": {},
   "outputs": [
    {
     "name": "stdout",
     "output_type": "stream",
     "text": [
      "<class 'pandas.core.frame.DataFrame'>\n",
      "Int64Index: 326 entries, 0 to 665\n",
      "Data columns (total 12 columns):\n",
      " #   Column                Non-Null Count  Dtype   \n",
      "---  ------                --------------  -----   \n",
      " 0   neuron_id             326 non-null    int64   \n",
      " 1   mean_firing_rate      326 non-null    float64 \n",
      " 2   cv2_isi               326 non-null    float64 \n",
      " 3   recording_session_id  326 non-null    int64   \n",
      " 4   cluster_id            326 non-null    int64   \n",
      " 5   channel               326 non-null    int64   \n",
      " 6   is_single_unit        326 non-null    int64   \n",
      " 7   session_name          326 non-null    object  \n",
      " 8   group_name            326 non-null    object  \n",
      " 9   experiment_name       326 non-null    object  \n",
      " 10  group                 326 non-null    category\n",
      " 11  cluster               326 non-null    object  \n",
      "dtypes: category(1), float64(2), int64(5), object(4)\n",
      "memory usage: 31.0+ KB\n"
     ]
    }
   ],
   "source": [
    "neurons.info()"
   ]
  },
  {
   "cell_type": "code",
   "execution_count": 34,
   "metadata": {},
   "outputs": [],
   "source": [
    "# neurons = neurons.loc[lambda x: x.mean_firing_rate != \"slow_regular\"].copy()\n",
    "\n",
    "# neurons[\"mean_firing_rate\"] = neurons[\"mean_firing_rate\"].astype(float)\n",
    "# neurons[\"cv2_isi\"] = neurons[\"mean_firing_rate\"].astype(float)"
   ]
  },
  {
   "cell_type": "code",
   "execution_count": 35,
   "metadata": {},
   "outputs": [],
   "source": [
    "neurons.loc[lambda x: (x.cluster == \"fast_firing\") & (x.mean_firing_rate < 5) & (x.cv2_isi < 0.7), \"cluster\"] = \"slow_regular\"\n",
    "neurons.loc[lambda x: (x.cluster == \"fast_firing\") & (x.mean_firing_rate < 5) & (x.cv2_isi >= 0.7), \"cluster\"] = \"slow_irregular\""
   ]
  },
  {
   "cell_type": "code",
   "execution_count": 36,
   "metadata": {},
   "outputs": [],
   "source": [
    "out_path = r\"C:\\Users\\roryl\\repos\\citalopram-project\\data\\neurons.parquet.gzip\""
   ]
  },
  {
   "cell_type": "code",
   "execution_count": 40,
   "metadata": {},
   "outputs": [
    {
     "data": {
      "text/plain": [
       "(0.0, 27.0)"
      ]
     },
     "execution_count": 40,
     "metadata": {},
     "output_type": "execute_result"
    },
    {
     "data": {
      "image/png": "[encoded data removed]",
      "text/plain": [
       "<Figure size 432x288 with 1 Axes>"
      ]
     },
     "metadata": {},
     "output_type": "display_data"
    }
   ],
   "source": [
    "dfp = neurons.loc[lambda x: x.group == \"sal\"]\n",
    "\n",
    "ax = sns.scatterplot(x=\"cv2_isi\", y=\"mean_firing_rate\", hue=\"cluster\", data=dfp)\n",
    "ax.set_xlim([0, 1.3])\n",
    "ax.set_ylim([0, 27])"
   ]
  },
  {
   "cell_type": "code",
   "execution_count": 38,
   "metadata": {},
   "outputs": [],
   "source": [
    "neurons.to_parquet(out_path, compression=\"gzip\")"
   ]
  },
  {
   "cell_type": "code",
   "execution_count": null,
   "metadata": {},
   "outputs": [],
   "source": []
  }
 ],
 "metadata": {
  "interpreter": {
   "hash": "a599687f909e48fa7273069ae1b2e38668ccafbf5edc22ac15bebb93ff4076d0"
  },
  "kernelspec": {
   "display_name": "Python 3.9.6 64-bit ('ephys': conda)",
   "language": "python",
   "name": "python3"
  },
  "language_info": {
   "codemirror_mode": {
    "name": "ipython",
    "version": 3
   },
   "file_extension": ".py",
   "mimetype": "text/x-python",
   "name": "python",
   "nbconvert_exporter": "python",
   "pygments_lexer": "ipython3",
   "version": "3.9.6"
  },
  "orig_nbformat": 4
 },
 "nbformat": 4,
 "nbformat_minor": 2
}
