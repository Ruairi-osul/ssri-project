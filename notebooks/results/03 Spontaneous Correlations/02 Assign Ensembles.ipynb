{
 "cells": [
  {
   "cell_type": "code",
   "execution_count": 5,
   "metadata": {},
   "outputs": [],
   "source": [
    "from citalopram_project.load import load_spikes, load_neurons\n",
    "from citalopram_project.correlations import pairwise_correlation_spikes\n",
    "from citalopram_project.ensemble.humphries import humphries_ensemble, communities_test\n",
    "from citalopram_project.ensemble.ensembles import  _create_ensemble_stats, _create_ensemble_df, get_ensemble_id, get_ensemble_sig, drop_non_sig_ensembles\n",
    "from tqdm.notebook import tqdm\n",
    "import pandas as pd\n",
    "import numpy as np\n",
    "from citalopram_project.load import get_data_dir\n",
    "\n",
    "\n",
    "neurons = load_neurons()\n"
   ]
  },
  {
   "cell_type": "code",
   "execution_count": 2,
   "metadata": {},
   "outputs": [],
   "source": [
    "class EnsembleError(Exception):\n",
    "    ...\n",
    "\n",
    "\n",
    "def detect_ensembles_single(df, bin_width, sigma, n_runs=20, n_boot_coms=1000):\n",
    "    mod_list, communities_list, cluster_list = [], [], []\n",
    "    for _ in range(n_runs):\n",
    "        df_corr = pairwise_correlation_spikes(df.copy(), bin_width=bin_width, sigma=sigma, fillna=0, rectify=True)\n",
    "        mod, communities, cluster_idx = humphries_ensemble(df_corr)\n",
    "        mod_list.append(mod)\n",
    "        communities_list.append(communities)\n",
    "        cluster_list.append(cluster_idx)\n",
    "    if np.isnan(mod_list).all():\n",
    "        raise EnsembleError()\n",
    "    best_run_idx = np.argmax(mod_list)\n",
    "    \n",
    "    mod = mod_list[best_run_idx]\n",
    "    communities = communities_list[best_run_idx]\n",
    "    cluster_idx = cluster_list[best_run_idx]\n",
    "    com_scores, com_score_p_values, com_similarities = communities_test(df_corr, communities, n_boot=n_boot_coms)\n",
    "    stats_df = _create_ensemble_stats(mod, communities, com_scores, com_score_p_values, com_similarities)\n",
    "    ensemble_df = _create_ensemble_df(communities)\n",
    "    return ensemble_df, stats_df\n",
    "\n",
    "\n",
    "\n",
    "def detect_ensembles(df_spikes, session_col, n_runs=20, bin_width=1, sigma=0, n_boot_coms=1000):\n",
    "    session_names = df_spikes[session_col].unique()\n",
    "    stats_dfs = []\n",
    "    ensembles_dfs = []\n",
    "    for session in tqdm(session_names):\n",
    "        df1 = df_spikes[df_spikes[session_col] == session]\n",
    "        try:\n",
    "            ensemble_df, stats_df = detect_ensembles_single(df1.copy(), n_runs=n_runs, sigma=sigma, bin_width=bin_width, n_boot_coms=n_boot_coms)\n",
    "        except EnsembleError:\n",
    "            print(f\"Error in {session}\")\n",
    "            continue\n",
    "        stats_dfs.append(stats_df.assign(session_name=session))\n",
    "        ensembles_dfs.append(ensemble_df.assign(session_name=session))\n",
    "    \n",
    "    df_stats = pd.concat(stats_dfs)\n",
    "    df_ensembles = pd.concat(ensembles_dfs)\n",
    "    df_stats = get_ensemble_sig(df_stats)\n",
    "    df_stats, df_ensembles = get_ensemble_id(df_stats, df_ensembles)\n",
    "    df_ensembles = drop_non_sig_ensembles(df_stats, df_ensembles)\n",
    "    return df_stats, df_ensembles\n"
   ]
  },
  {
   "cell_type": "code",
   "execution_count": 4,
   "metadata": {},
   "outputs": [
    {
     "data": {
      "application/vnd.jupyter.widget-view+json": {
       "model_id": "48843670bfea4d94948cbad2e6788a15",
       "version_major": 2,
       "version_minor": 0
      },
      "text/plain": [
       "  0%|          | 0/12 [00:00<?, ?it/s]"
      ]
     },
     "metadata": {},
     "output_type": "display_data"
    }
   ],
   "source": [
    "df_spikes = load_spikes(block_name=\"pre\").merge(neurons[[\"neuron_id\", \"session_name\", \"cluster\", \"group\"]]).loc[lambda x: x.spiketimes < (60 * 30)].loc[lambda x: x.group != \"discontinuation\"]\n",
    "\n",
    "df_stats, df_ensembles = detect_ensembles(df_spikes, session_col=\"session_name\", n_runs=20, bin_width=1, sigma=0, n_boot_coms=1000)"
   ]
  },
  {
   "cell_type": "code",
   "execution_count": 6,
   "metadata": {},
   "outputs": [],
   "source": [
    "\n",
    "derived_data_dir = get_data_dir() / \"derived\"\n",
    "df_stats.to_parquet(derived_data_dir / \"spont_ensemble_stats.parquet.gzip\", compression=\"gzip\")\n",
    "df_ensembles.to_parquet(derived_data_dir / \"spont_ensembles.parquet.gzip\", compression=\"gzip\")\n"
   ]
  },
  {
   "cell_type": "code",
   "execution_count": 7,
   "metadata": {},
   "outputs": [
    {
     "data": {
      "application/vnd.jupyter.widget-view+json": {
       "model_id": "c6d1dad019284c59a2123f1dc2a1993a",
       "version_major": 2,
       "version_minor": 0
      },
      "text/plain": [
       "  0%|          | 0/12 [00:00<?, ?it/s]"
      ]
     },
     "metadata": {},
     "output_type": "display_data"
    }
   ],
   "source": [
    "df_spikes = load_spikes(block_name=\"pre\").merge(neurons[[\"neuron_id\", \"session_name\", \"cluster\", \"group\"]]).loc[lambda x: x.spiketimes < (60 * 15)].loc[lambda x: x.group != \"discontinuation\"]\n",
    "\n",
    "df_stats, df_ensembles = detect_ensembles(df_spikes, session_col=\"session_name\", n_runs=20, bin_width=1, sigma=0, n_boot_coms=1000)\n",
    "\n",
    "df_stats.to_parquet(derived_data_dir / \"spont_ensemble_stats_FIRST15.parquet.gzip\", compression=\"gzip\")\n",
    "df_ensembles.to_parquet(derived_data_dir / \"spont_ensembles_FIRST15.parquet.gzip\", compression=\"gzip\")"
   ]
  },
  {
   "cell_type": "code",
   "execution_count": 9,
   "metadata": {},
   "outputs": [
    {
     "data": {
      "application/vnd.jupyter.widget-view+json": {
       "model_id": "d7901f637f7040b681586e4c3bdc9236",
       "version_major": 2,
       "version_minor": 0
      },
      "text/plain": [
       "  0%|          | 0/12 [00:00<?, ?it/s]"
      ]
     },
     "metadata": {},
     "output_type": "display_data"
    },
    {
     "name": "stdout",
     "output_type": "stream",
     "text": [
      "Error in hamilton_14\n",
      "Error in chronic_09\n",
      "Error in chronic_01\n"
     ]
    }
   ],
   "source": [
    "df_spikes = load_spikes(block_name=\"pre\").merge(neurons[[\"neuron_id\", \"session_name\", \"cluster\", \"group\"]]).loc[lambda x: (x.spiketimes > (60 * 15)) & (x.spiketimes < (60 * 30)) ].loc[lambda x: x.group != \"discontinuation\"]\n",
    "\n",
    "\n",
    "df_stats, df_ensembles = detect_ensembles(df_spikes, session_col=\"session_name\", n_runs=20, bin_width=1, sigma=0, n_boot_coms=1000)\n",
    "\n",
    "df_stats.to_parquet(derived_data_dir / \"spont_ensemble_stats_LAST15.parquet.gzip\", compression=\"gzip\")\n",
    "df_ensembles.to_parquet(derived_data_dir / \"spont_ensembles_LAST15.parquet.gzip\", compression=\"gzip\")"
   ]
  },
  {
   "cell_type": "code",
   "execution_count": null,
   "metadata": {},
   "outputs": [],
   "source": []
  }
 ],
 "metadata": {
  "interpreter": {
   "hash": "0876a14130af962183e1beb91bd360a4d609a12451320989503048ce309c5018"
  },
  "kernelspec": {
   "display_name": "Python 3.6.13 ('citalopram')",
   "language": "python",
   "name": "python3"
  },
  "language_info": {
   "codemirror_mode": {
    "name": "ipython",
    "version": 3
   },
   "file_extension": ".py",
   "mimetype": "text/x-python",
   "name": "python",
   "nbconvert_exporter": "python",
   "pygments_lexer": "ipython3",
   "version": "3.6.13"
  },
  "orig_nbformat": 4
 },
 "nbformat": 4,
 "nbformat_minor": 2
}
