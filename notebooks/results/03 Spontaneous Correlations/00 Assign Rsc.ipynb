{
 "cells": [
  {
   "cell_type": "code",
   "execution_count": 1,
   "metadata": {},
   "outputs": [],
   "source": [
    "import pandas as pd\n",
    "import numpy as np\n",
    "from spiketimes.utils import p_adjust\n",
    "from tqdm.notebook import tqdm\n",
    "from citalopram_project.load import load_spikes, load_neurons\n",
    "from citalopram_project.correlations import pairwise_correlation_spikes, shuffled_isi_correlation_test"
   ]
  },
  {
   "cell_type": "code",
   "execution_count": 2,
   "metadata": {},
   "outputs": [
    {
     "data": {
      "application/vnd.jupyter.widget-view+json": {
       "model_id": "5080e6586d5e4b1886a3e953edf3d7ba",
       "version_major": 2,
       "version_minor": 0
      },
      "text/plain": [
       "  0%|          | 0/21 [00:00<?, ?it/s]"
      ]
     },
     "metadata": {},
     "output_type": "display_data"
    }
   ],
   "source": [
    "neurons = load_neurons()\n",
    "spikes = load_spikes(block_name=\"pre\").merge(\n",
    "    neurons[[\"neuron_id\", \"session_name\", \"cluster\"]]\n",
    ")\n",
    "\n",
    "\n",
    "res = []\n",
    "for session in tqdm(neurons[\"session_name\"].unique()):\n",
    "    df_spikes = spikes.loc[lambda x: x.session_name == session]\n",
    "    res.append(\n",
    "        shuffled_isi_correlation_test(\n",
    "            df_spikes=df_spikes,\n",
    "            bin_width=1,\n",
    "            n_boot=1000,\n",
    "            rectify=False,\n",
    "            show_progress=False,\n",
    "            fillna=0,\n",
    "        ).assign(session_name=session)\n",
    "    )"
   ]
  },
  {
   "cell_type": "code",
   "execution_count": 3,
   "metadata": {},
   "outputs": [],
   "source": [
    "correlation_test_results = pd.concat(res).assign(p_adj = lambda x: p_adjust(x.p))"
   ]
  },
  {
   "cell_type": "code",
   "execution_count": 4,
   "metadata": {},
   "outputs": [
    {
     "data": {
      "text/html": [
       "<div>\n",
       "<style scoped>\n",
       "    .dataframe tbody tr th:only-of-type {\n",
       "        vertical-align: middle;\n",
       "    }\n",
       "\n",
       "    .dataframe tbody tr th {\n",
       "        vertical-align: top;\n",
       "    }\n",
       "\n",
       "    .dataframe thead th {\n",
       "        text-align: right;\n",
       "    }\n",
       "</style>\n",
       "<table border=\"1\" class=\"dataframe\">\n",
       "  <thead>\n",
       "    <tr style=\"text-align: right;\">\n",
       "      <th></th>\n",
       "      <th>neuron_1</th>\n",
       "      <th>neuron_2</th>\n",
       "      <th>value</th>\n",
       "      <th>neuron_combination</th>\n",
       "      <th>p</th>\n",
       "      <th>p_adj</th>\n",
       "      <th>session_name</th>\n",
       "    </tr>\n",
       "  </thead>\n",
       "  <tbody>\n",
       "    <tr>\n",
       "      <th>17</th>\n",
       "      <td>1069</td>\n",
       "      <td>1070</td>\n",
       "      <td>0.342114</td>\n",
       "      <td>1069_1070</td>\n",
       "      <td>0.000</td>\n",
       "      <td>0.000000</td>\n",
       "      <td>hamilton_01</td>\n",
       "    </tr>\n",
       "    <tr>\n",
       "      <th>34</th>\n",
       "      <td>1069</td>\n",
       "      <td>1071</td>\n",
       "      <td>0.223465</td>\n",
       "      <td>1069_1071</td>\n",
       "      <td>0.000</td>\n",
       "      <td>0.000000</td>\n",
       "      <td>hamilton_01</td>\n",
       "    </tr>\n",
       "    <tr>\n",
       "      <th>35</th>\n",
       "      <td>1070</td>\n",
       "      <td>1071</td>\n",
       "      <td>-0.012694</td>\n",
       "      <td>1070_1071</td>\n",
       "      <td>1.200</td>\n",
       "      <td>1.319618</td>\n",
       "      <td>hamilton_01</td>\n",
       "    </tr>\n",
       "    <tr>\n",
       "      <th>51</th>\n",
       "      <td>1069</td>\n",
       "      <td>1072</td>\n",
       "      <td>-0.034751</td>\n",
       "      <td>1069_1072</td>\n",
       "      <td>0.300</td>\n",
       "      <td>0.389524</td>\n",
       "      <td>hamilton_01</td>\n",
       "    </tr>\n",
       "    <tr>\n",
       "      <th>52</th>\n",
       "      <td>1070</td>\n",
       "      <td>1072</td>\n",
       "      <td>-0.209583</td>\n",
       "      <td>1070_1072</td>\n",
       "      <td>0.000</td>\n",
       "      <td>0.000000</td>\n",
       "      <td>hamilton_01</td>\n",
       "    </tr>\n",
       "    <tr>\n",
       "      <th>...</th>\n",
       "      <td>...</td>\n",
       "      <td>...</td>\n",
       "      <td>...</td>\n",
       "      <td>...</td>\n",
       "      <td>...</td>\n",
       "      <td>...</td>\n",
       "      <td>...</td>\n",
       "    </tr>\n",
       "    <tr>\n",
       "      <th>355</th>\n",
       "      <td>2655</td>\n",
       "      <td>2662</td>\n",
       "      <td>0.464705</td>\n",
       "      <td>2655_2662</td>\n",
       "      <td>0.000</td>\n",
       "      <td>0.000000</td>\n",
       "      <td>chronic_01</td>\n",
       "    </tr>\n",
       "    <tr>\n",
       "      <th>356</th>\n",
       "      <td>2657</td>\n",
       "      <td>2662</td>\n",
       "      <td>-0.284572</td>\n",
       "      <td>2657_2662</td>\n",
       "      <td>0.000</td>\n",
       "      <td>0.000000</td>\n",
       "      <td>chronic_01</td>\n",
       "    </tr>\n",
       "    <tr>\n",
       "      <th>357</th>\n",
       "      <td>2658</td>\n",
       "      <td>2662</td>\n",
       "      <td>0.398653</td>\n",
       "      <td>2658_2662</td>\n",
       "      <td>0.000</td>\n",
       "      <td>0.000000</td>\n",
       "      <td>chronic_01</td>\n",
       "    </tr>\n",
       "    <tr>\n",
       "      <th>358</th>\n",
       "      <td>2659</td>\n",
       "      <td>2662</td>\n",
       "      <td>0.362867</td>\n",
       "      <td>2659_2662</td>\n",
       "      <td>0.000</td>\n",
       "      <td>0.000000</td>\n",
       "      <td>chronic_01</td>\n",
       "    </tr>\n",
       "    <tr>\n",
       "      <th>359</th>\n",
       "      <td>2660</td>\n",
       "      <td>2662</td>\n",
       "      <td>0.017189</td>\n",
       "      <td>2660_2662</td>\n",
       "      <td>0.574</td>\n",
       "      <td>0.696357</td>\n",
       "      <td>chronic_01</td>\n",
       "    </tr>\n",
       "  </tbody>\n",
       "</table>\n",
       "<p>14154 rows × 7 columns</p>\n",
       "</div>"
      ],
      "text/plain": [
       "     neuron_1  neuron_2     value neuron_combination      p     p_adj  \\\n",
       "17       1069      1070  0.342114          1069_1070  0.000  0.000000   \n",
       "34       1069      1071  0.223465          1069_1071  0.000  0.000000   \n",
       "35       1070      1071 -0.012694          1070_1071  1.200  1.319618   \n",
       "51       1069      1072 -0.034751          1069_1072  0.300  0.389524   \n",
       "52       1070      1072 -0.209583          1070_1072  0.000  0.000000   \n",
       "..        ...       ...       ...                ...    ...       ...   \n",
       "355      2655      2662  0.464705          2655_2662  0.000  0.000000   \n",
       "356      2657      2662 -0.284572          2657_2662  0.000  0.000000   \n",
       "357      2658      2662  0.398653          2658_2662  0.000  0.000000   \n",
       "358      2659      2662  0.362867          2659_2662  0.000  0.000000   \n",
       "359      2660      2662  0.017189          2660_2662  0.574  0.696357   \n",
       "\n",
       "    session_name  \n",
       "17   hamilton_01  \n",
       "34   hamilton_01  \n",
       "35   hamilton_01  \n",
       "51   hamilton_01  \n",
       "52   hamilton_01  \n",
       "..           ...  \n",
       "355   chronic_01  \n",
       "356   chronic_01  \n",
       "357   chronic_01  \n",
       "358   chronic_01  \n",
       "359   chronic_01  \n",
       "\n",
       "[14154 rows x 7 columns]"
      ]
     },
     "execution_count": 4,
     "metadata": {},
     "output_type": "execute_result"
    }
   ],
   "source": [
    "from citalopram_project.load import get_data_dir\n",
    "derived_data_dir = get_data_dir() / \"derived\"\n",
    "derived_data_dir.mkdir(exist_ok=True)\n",
    "\n",
    "correlation_test_results.to_parquet(derived_data_dir / \"pre_1s_spont_correlation_test.parquet.gzip\", compression=\"gzip\")\n",
    "\n",
    "pd.read_parquet(derived_data_dir / \"pre_1s_spont_correlation_test.parquet.gzip\")"
   ]
  },
  {
   "cell_type": "code",
   "execution_count": 12,
   "metadata": {},
   "outputs": [],
   "source": [
    "def bin_and_correlate(\n",
    "    df_spikes,\n",
    "    binwidth=1,\n",
    "    spiketimes_col=\"spiketimes\", \n",
    "    cell_col=\"neuron_id\",\n",
    "    t_start=0,\n",
    "    sigma=0,\n",
    "    ):\n",
    "    ...\n",
    "    df_binned = ifr_by(\n",
    "        df_spikes,\n",
    "        spiketimes_col=spiketimes_col,\n",
    "        spiketrain_col=cell_col,\n",
    "        sigma=sigma,\n",
    "        t_start=t_start,\n",
    "        fs=1/binwidth,\n",
    "    )\n",
    "    df_tidy = pairwise_correlation(\n",
    "        df_binned,\n",
    "        cell_col=cell_col,\n",
    "        value_col=\"ifr\", \n",
    "        return_tidy=True,\n",
    "        fillna=0\n",
    "    )\n",
    "    return df_tidy"
   ]
  },
  {
   "cell_type": "code",
   "execution_count": 15,
   "metadata": {},
   "outputs": [
    {
     "data": {
      "application/vnd.jupyter.widget-view+json": {
       "model_id": "92243cacafec400ea18a59be8e1530e3",
       "version_major": 2,
       "version_minor": 0
      },
      "text/plain": [
       "  0%|          | 0/21 [00:00<?, ?it/s]"
      ]
     },
     "metadata": {},
     "output_type": "display_data"
    },
    {
     "data": {
      "application/vnd.jupyter.widget-view+json": {
       "model_id": "83953cb4d06b4a4bb4cd3d9406739f3c",
       "version_major": 2,
       "version_minor": 0
      },
      "text/plain": [
       "  0%|          | 0/21 [00:00<?, ?it/s]"
      ]
     },
     "metadata": {},
     "output_type": "display_data"
    },
    {
     "data": {
      "application/vnd.jupyter.widget-view+json": {
       "model_id": "60663263a6ad452b83cf3b03b714cf73",
       "version_major": 2,
       "version_minor": 0
      },
      "text/plain": [
       "  0%|          | 0/21 [00:00<?, ?it/s]"
      ]
     },
     "metadata": {},
     "output_type": "display_data"
    },
    {
     "data": {
      "application/vnd.jupyter.widget-view+json": {
       "model_id": "c45dbd5d969f4a84b78691e5172a2ae3",
       "version_major": 2,
       "version_minor": 0
      },
      "text/plain": [
       "  0%|          | 0/21 [00:00<?, ?it/s]"
      ]
     },
     "metadata": {},
     "output_type": "display_data"
    },
    {
     "data": {
      "application/vnd.jupyter.widget-view+json": {
       "model_id": "3bd088ae5fbf4f9298bc6fb5028f9ab6",
       "version_major": 2,
       "version_minor": 0
      },
      "text/plain": [
       "  0%|          | 0/21 [00:00<?, ?it/s]"
      ]
     },
     "metadata": {},
     "output_type": "display_data"
    },
    {
     "data": {
      "application/vnd.jupyter.widget-view+json": {
       "model_id": "c134c105a785483e923236cd7e952beb",
       "version_major": 2,
       "version_minor": 0
      },
      "text/plain": [
       "  0%|          | 0/21 [00:00<?, ?it/s]"
      ]
     },
     "metadata": {},
     "output_type": "display_data"
    },
    {
     "data": {
      "application/vnd.jupyter.widget-view+json": {
       "model_id": "9bbe3c3bfbc940068bbf9f50e92f44b0",
       "version_major": 2,
       "version_minor": 0
      },
      "text/plain": [
       "  0%|          | 0/21 [00:00<?, ?it/s]"
      ]
     },
     "metadata": {},
     "output_type": "display_data"
    },
    {
     "data": {
      "application/vnd.jupyter.widget-view+json": {
       "model_id": "9fe08aacd5a44dc1a4c77a222125d194",
       "version_major": 2,
       "version_minor": 0
      },
      "text/plain": [
       "  0%|          | 0/21 [00:00<?, ?it/s]"
      ]
     },
     "metadata": {},
     "output_type": "display_data"
    },
    {
     "data": {
      "application/vnd.jupyter.widget-view+json": {
       "model_id": "3536ea7d1d23435e88540e128f4d7755",
       "version_major": 2,
       "version_minor": 0
      },
      "text/plain": [
       "  0%|          | 0/21 [00:00<?, ?it/s]"
      ]
     },
     "metadata": {},
     "output_type": "display_data"
    },
    {
     "data": {
      "application/vnd.jupyter.widget-view+json": {
       "model_id": "d4016603ad324485a840dc665a96806a",
       "version_major": 2,
       "version_minor": 0
      },
      "text/plain": [
       "  0%|          | 0/21 [00:00<?, ?it/s]"
      ]
     },
     "metadata": {},
     "output_type": "display_data"
    },
    {
     "data": {
      "application/vnd.jupyter.widget-view+json": {
       "model_id": "81c389675f0d42869a2fe016572475ee",
       "version_major": 2,
       "version_minor": 0
      },
      "text/plain": [
       "  0%|          | 0/21 [00:00<?, ?it/s]"
      ]
     },
     "metadata": {},
     "output_type": "display_data"
    }
   ],
   "source": [
    "df_list = []\n",
    "bins = [0.01, 0.1, 0.2, 0.5, 1, 2, 5, 10, 30, 60, 120]\n",
    "for binwidth in bins:\n",
    "    for session in tqdm(session_names):\n",
    "        df1 = spikes.loc[lambda x: x.session_name == session]\n",
    "        res = bin_and_correlate(df1, binwidth=1)\n",
    "        df_list.append(res.assign(session_name=session, binwidth=binwidth))\n",
    "\n",
    "binwidth_res = pd.concat(df_list)\n"
   ]
  },
  {
   "cell_type": "code",
   "execution_count": 25,
   "metadata": {},
   "outputs": [],
   "source": [
    "# binwidth_res.to_parquet(derived_data_dir / \"binwidth_spont_correlations.parquet.gzip\", compression=\"gzip\")"
   ]
  },
  {
   "cell_type": "code",
   "execution_count": null,
   "metadata": {},
   "outputs": [],
   "source": []
  }
 ],
 "metadata": {
  "interpreter": {
   "hash": "0876a14130af962183e1beb91bd360a4d609a12451320989503048ce309c5018"
  },
  "kernelspec": {
   "display_name": "Python 3.6.13 ('citalopram')",
   "language": "python",
   "name": "python3"
  },
  "language_info": {
   "codemirror_mode": {
    "name": "ipython",
    "version": 3
   },
   "file_extension": ".py",
   "mimetype": "text/x-python",
   "name": "python",
   "nbconvert_exporter": "python",
   "pygments_lexer": "ipython3",
   "version": "3.6.13"
  },
  "orig_nbformat": 4
 },
 "nbformat": 4,
 "nbformat_minor": 2
}
