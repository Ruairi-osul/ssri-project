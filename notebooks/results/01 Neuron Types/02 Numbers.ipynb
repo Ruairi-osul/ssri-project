{
 "cells": [
  {
   "cell_type": "code",
   "execution_count": 1,
   "metadata": {},
   "outputs": [],
   "source": [
    "# number of mice per group\n",
    "# number of neurons per group\n",
    "# number of neurons per mouse\n",
    "# Chi Square test of association between group and neuron type"
   ]
  },
  {
   "cell_type": "code",
   "execution_count": 2,
   "metadata": {},
   "outputs": [],
   "source": [
    "from citalopram_project.load import load_neurons\n",
    "import seaborn as sns\n",
    "import matplotlib.pyplot as plt\n",
    "import pandas as pd\n",
    "sns.set_style(\"whitegrid\")\n",
    "from pathlib import Path\n",
    "\n",
    "FIG_DIR = Path(r\"C:\\Users\\roryl\\repos\\citalopram-project\\figs\\f1\")"
   ]
  },
  {
   "cell_type": "code",
   "execution_count": 3,
   "metadata": {},
   "outputs": [],
   "source": [
    "neurons = (\n",
    "    load_neurons()\n",
    "    .dropna()\n",
    "    .loc[lambda x: x.group.isin([\"sal\", \"continuation\"])]\n",
    "    .assign(group=lambda x: pd.Categorical(x.group, categories=[\"sal\", \"continuation\"], ordered=True))\n",
    ")"
   ]
  },
  {
   "cell_type": "code",
   "execution_count": 19,
   "metadata": {},
   "outputs": [
    {
     "data": {
      "text/plain": [
       "group\n",
       "continuation    270\n",
       "sal             151\n",
       "Name: session_name, dtype: int64"
      ]
     },
     "execution_count": 19,
     "metadata": {},
     "output_type": "execute_result"
    }
   ],
   "source": [
    "neurons = load_neurons().loc[lambda x: x.group.isin([\"sal\", \"continuation\"])]\n",
    "\n",
    "neurons.groupby(\"group\").session_name.apply(len)"
   ]
  },
  {
   "cell_type": "code",
   "execution_count": 21,
   "metadata": {},
   "outputs": [
    {
     "data": {
      "text/plain": [
       "(3.89513924520489,\n",
       " 0.14262027180253625,\n",
       " 2,\n",
       " array([[23.54601227, 89.84662577, 88.60736196],\n",
       "        [14.45398773, 55.15337423, 54.39263804]]))"
      ]
     },
     "execution_count": 21,
     "metadata": {},
     "output_type": "execute_result"
    }
   ],
   "source": [
    "from scipy.stats import chi2_contingency\n",
    "\n",
    "X = pd.crosstab(neurons[\"group\"], neurons[\"cluster\"])\n",
    "chi2_contingency(X)\n"
   ]
  },
  {
   "cell_type": "code",
   "execution_count": 28,
   "metadata": {},
   "outputs": [
    {
     "data": {
      "text/plain": [
       "group\n",
       "continuation    7\n",
       "sal             5\n",
       "dtype: int64"
      ]
     },
     "execution_count": 28,
     "metadata": {},
     "output_type": "execute_result"
    }
   ],
   "source": [
    "neurons[[\"session_name\", \"group\"]].drop_duplicates().groupby(\"group\").apply(len)"
   ]
  },
  {
   "cell_type": "code",
   "execution_count": 29,
   "metadata": {},
   "outputs": [
    {
     "data": {
      "text/html": [
       "<div>\n",
       "<style scoped>\n",
       "    .dataframe tbody tr th:only-of-type {\n",
       "        vertical-align: middle;\n",
       "    }\n",
       "\n",
       "    .dataframe tbody tr th {\n",
       "        vertical-align: top;\n",
       "    }\n",
       "\n",
       "    .dataframe thead th {\n",
       "        text-align: right;\n",
       "    }\n",
       "</style>\n",
       "<table border=\"1\" class=\"dataframe\">\n",
       "  <thead>\n",
       "    <tr style=\"text-align: right;\">\n",
       "      <th></th>\n",
       "      <th>neuron_id</th>\n",
       "      <th>mean_firing_rate</th>\n",
       "      <th>cv2_isi</th>\n",
       "      <th>recording_session_id</th>\n",
       "      <th>cluster_id</th>\n",
       "      <th>channel</th>\n",
       "      <th>is_single_unit</th>\n",
       "      <th>session_name</th>\n",
       "      <th>group_name</th>\n",
       "      <th>experiment_name</th>\n",
       "      <th>group</th>\n",
       "      <th>cluster</th>\n",
       "    </tr>\n",
       "  </thead>\n",
       "  <tbody>\n",
       "    <tr>\n",
       "      <th>0</th>\n",
       "      <td>1069</td>\n",
       "      <td>0.902333</td>\n",
       "      <td>1.005615</td>\n",
       "      <td>26</td>\n",
       "      <td>7</td>\n",
       "      <td>30</td>\n",
       "      <td>1</td>\n",
       "      <td>hamilton_01</td>\n",
       "      <td>chronic_saline</td>\n",
       "      <td>HAMILTON</td>\n",
       "      <td>sal</td>\n",
       "      <td>slow_irregular</td>\n",
       "    </tr>\n",
       "    <tr>\n",
       "      <th>1</th>\n",
       "      <td>1070</td>\n",
       "      <td>3.129088</td>\n",
       "      <td>0.999278</td>\n",
       "      <td>26</td>\n",
       "      <td>15</td>\n",
       "      <td>29</td>\n",
       "      <td>1</td>\n",
       "      <td>hamilton_01</td>\n",
       "      <td>chronic_saline</td>\n",
       "      <td>HAMILTON</td>\n",
       "      <td>sal</td>\n",
       "      <td>slow_irregular</td>\n",
       "    </tr>\n",
       "    <tr>\n",
       "      <th>2</th>\n",
       "      <td>1071</td>\n",
       "      <td>4.605583</td>\n",
       "      <td>0.743499</td>\n",
       "      <td>26</td>\n",
       "      <td>18</td>\n",
       "      <td>27</td>\n",
       "      <td>1</td>\n",
       "      <td>hamilton_01</td>\n",
       "      <td>chronic_saline</td>\n",
       "      <td>HAMILTON</td>\n",
       "      <td>sal</td>\n",
       "      <td>slow_irregular</td>\n",
       "    </tr>\n",
       "    <tr>\n",
       "      <th>3</th>\n",
       "      <td>1072</td>\n",
       "      <td>4.259120</td>\n",
       "      <td>0.976662</td>\n",
       "      <td>26</td>\n",
       "      <td>64</td>\n",
       "      <td>25</td>\n",
       "      <td>1</td>\n",
       "      <td>hamilton_01</td>\n",
       "      <td>chronic_saline</td>\n",
       "      <td>HAMILTON</td>\n",
       "      <td>sal</td>\n",
       "      <td>fast_firing</td>\n",
       "    </tr>\n",
       "    <tr>\n",
       "      <th>4</th>\n",
       "      <td>1074</td>\n",
       "      <td>1.775725</td>\n",
       "      <td>0.808472</td>\n",
       "      <td>26</td>\n",
       "      <td>68</td>\n",
       "      <td>26</td>\n",
       "      <td>1</td>\n",
       "      <td>hamilton_01</td>\n",
       "      <td>chronic_saline</td>\n",
       "      <td>HAMILTON</td>\n",
       "      <td>sal</td>\n",
       "      <td>slow_irregular</td>\n",
       "    </tr>\n",
       "    <tr>\n",
       "      <th>...</th>\n",
       "      <td>...</td>\n",
       "      <td>...</td>\n",
       "      <td>...</td>\n",
       "      <td>...</td>\n",
       "      <td>...</td>\n",
       "      <td>...</td>\n",
       "      <td>...</td>\n",
       "      <td>...</td>\n",
       "      <td>...</td>\n",
       "      <td>...</td>\n",
       "      <td>...</td>\n",
       "      <td>...</td>\n",
       "    </tr>\n",
       "    <tr>\n",
       "      <th>661</th>\n",
       "      <td>2657</td>\n",
       "      <td>4.155645</td>\n",
       "      <td>0.395765</td>\n",
       "      <td>58</td>\n",
       "      <td>32</td>\n",
       "      <td>24</td>\n",
       "      <td>1</td>\n",
       "      <td>chronic_01</td>\n",
       "      <td>chronic_citalopram</td>\n",
       "      <td>CITWAY</td>\n",
       "      <td>continuation</td>\n",
       "      <td>slow_regular</td>\n",
       "    </tr>\n",
       "    <tr>\n",
       "      <th>662</th>\n",
       "      <td>2658</td>\n",
       "      <td>6.036756</td>\n",
       "      <td>0.389048</td>\n",
       "      <td>58</td>\n",
       "      <td>34</td>\n",
       "      <td>29</td>\n",
       "      <td>1</td>\n",
       "      <td>chronic_01</td>\n",
       "      <td>chronic_citalopram</td>\n",
       "      <td>CITWAY</td>\n",
       "      <td>continuation</td>\n",
       "      <td>fast_firing</td>\n",
       "    </tr>\n",
       "    <tr>\n",
       "      <th>663</th>\n",
       "      <td>2659</td>\n",
       "      <td>0.678729</td>\n",
       "      <td>1.018749</td>\n",
       "      <td>58</td>\n",
       "      <td>35</td>\n",
       "      <td>29</td>\n",
       "      <td>1</td>\n",
       "      <td>chronic_01</td>\n",
       "      <td>chronic_citalopram</td>\n",
       "      <td>CITWAY</td>\n",
       "      <td>continuation</td>\n",
       "      <td>slow_irregular</td>\n",
       "    </tr>\n",
       "    <tr>\n",
       "      <th>664</th>\n",
       "      <td>2660</td>\n",
       "      <td>25.342855</td>\n",
       "      <td>0.181387</td>\n",
       "      <td>58</td>\n",
       "      <td>36</td>\n",
       "      <td>32</td>\n",
       "      <td>1</td>\n",
       "      <td>chronic_01</td>\n",
       "      <td>chronic_citalopram</td>\n",
       "      <td>CITWAY</td>\n",
       "      <td>continuation</td>\n",
       "      <td>fast_firing</td>\n",
       "    </tr>\n",
       "    <tr>\n",
       "      <th>665</th>\n",
       "      <td>2662</td>\n",
       "      <td>2.854702</td>\n",
       "      <td>0.896308</td>\n",
       "      <td>58</td>\n",
       "      <td>38</td>\n",
       "      <td>32</td>\n",
       "      <td>1</td>\n",
       "      <td>chronic_01</td>\n",
       "      <td>chronic_citalopram</td>\n",
       "      <td>CITWAY</td>\n",
       "      <td>continuation</td>\n",
       "      <td>slow_irregular</td>\n",
       "    </tr>\n",
       "  </tbody>\n",
       "</table>\n",
       "<p>421 rows × 12 columns</p>\n",
       "</div>"
      ],
      "text/plain": [
       "     neuron_id  mean_firing_rate   cv2_isi  recording_session_id  cluster_id  \\\n",
       "0         1069          0.902333  1.005615                    26           7   \n",
       "1         1070          3.129088  0.999278                    26          15   \n",
       "2         1071          4.605583  0.743499                    26          18   \n",
       "3         1072          4.259120  0.976662                    26          64   \n",
       "4         1074          1.775725  0.808472                    26          68   \n",
       "..         ...               ...       ...                   ...         ...   \n",
       "661       2657          4.155645  0.395765                    58          32   \n",
       "662       2658          6.036756  0.389048                    58          34   \n",
       "663       2659          0.678729  1.018749                    58          35   \n",
       "664       2660         25.342855  0.181387                    58          36   \n",
       "665       2662          2.854702  0.896308                    58          38   \n",
       "\n",
       "     channel  is_single_unit session_name          group_name experiment_name  \\\n",
       "0         30               1  hamilton_01      chronic_saline        HAMILTON   \n",
       "1         29               1  hamilton_01      chronic_saline        HAMILTON   \n",
       "2         27               1  hamilton_01      chronic_saline        HAMILTON   \n",
       "3         25               1  hamilton_01      chronic_saline        HAMILTON   \n",
       "4         26               1  hamilton_01      chronic_saline        HAMILTON   \n",
       "..       ...             ...          ...                 ...             ...   \n",
       "661       24               1   chronic_01  chronic_citalopram          CITWAY   \n",
       "662       29               1   chronic_01  chronic_citalopram          CITWAY   \n",
       "663       29               1   chronic_01  chronic_citalopram          CITWAY   \n",
       "664       32               1   chronic_01  chronic_citalopram          CITWAY   \n",
       "665       32               1   chronic_01  chronic_citalopram          CITWAY   \n",
       "\n",
       "            group         cluster  \n",
       "0             sal  slow_irregular  \n",
       "1             sal  slow_irregular  \n",
       "2             sal  slow_irregular  \n",
       "3             sal     fast_firing  \n",
       "4             sal  slow_irregular  \n",
       "..            ...             ...  \n",
       "661  continuation    slow_regular  \n",
       "662  continuation     fast_firing  \n",
       "663  continuation  slow_irregular  \n",
       "664  continuation     fast_firing  \n",
       "665  continuation  slow_irregular  \n",
       "\n",
       "[421 rows x 12 columns]"
      ]
     },
     "execution_count": 29,
     "metadata": {},
     "output_type": "execute_result"
    }
   ],
   "source": [
    "neurons"
   ]
  },
  {
   "cell_type": "code",
   "execution_count": 32,
   "metadata": {},
   "outputs": [
    {
     "name": "stdout",
     "output_type": "stream",
     "text": [
      "35.08 +- 4.93\n"
     ]
    }
   ],
   "source": [
    "import numpy as np\n",
    "nums = neurons.groupby(\"session_name\").apply(len)\n",
    "\n",
    "m = nums.mean()\n",
    "se = nums.std() / np.sqrt(nums.std())\n",
    "\n",
    "print(f\"{m:.2f} +- {se:.2f}\")"
   ]
  },
  {
   "cell_type": "code",
   "execution_count": 33,
   "metadata": {},
   "outputs": [
    {
     "data": {
      "text/plain": [
       "421"
      ]
     },
     "execution_count": 33,
     "metadata": {},
     "output_type": "execute_result"
    }
   ],
   "source": [
    "len(neurons)"
   ]
  },
  {
   "cell_type": "code",
   "execution_count": null,
   "metadata": {},
   "outputs": [],
   "source": []
  }
 ],
 "metadata": {
  "interpreter": {
   "hash": "0876a14130af962183e1beb91bd360a4d609a12451320989503048ce309c5018"
  },
  "kernelspec": {
   "display_name": "Python 3.6.13 ('citalopram')",
   "language": "python",
   "name": "python3"
  },
  "language_info": {
   "codemirror_mode": {
    "name": "ipython",
    "version": 3
   },
   "file_extension": ".py",
   "mimetype": "text/x-python",
   "name": "python",
   "nbconvert_exporter": "python",
   "pygments_lexer": "ipython3",
   "version": "3.6.13"
  },
  "orig_nbformat": 4
 },
 "nbformat": 4,
 "nbformat_minor": 2
}
